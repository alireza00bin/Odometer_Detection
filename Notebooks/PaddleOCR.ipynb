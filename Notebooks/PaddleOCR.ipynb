{
  "cells": [
    {
      "cell_type": "markdown",
      "metadata": {
        "id": "efcyPMRRG1Fb"
      },
      "source": [
        "## Import essential libraries"
      ]
    },
    {
      "cell_type": "code",
      "execution_count": null,
      "metadata": {
        "id": "0JDuYyrmc_Dp"
      },
      "outputs": [],
      "source": [
        "import numpy as np\n",
        "import matplotlib.pyplot as plt\n",
        "import cv2\n",
        "import os\n",
        "from glob import glob"
      ]
    },
    {
      "cell_type": "markdown",
      "metadata": {
        "id": "1WexSHJmG8px"
      },
      "source": [
        "## Mount drive to import dataset and YOLO model weights"
      ]
    },
    {
      "cell_type": "code",
      "execution_count": null,
      "metadata": {
        "colab": {
          "base_uri": "https://localhost:8080/"
        },
        "id": "vqdLd6apdDfd",
        "outputId": "a1cf99a7-9f30-4e58-d809-0be1d59436fa"
      },
      "outputs": [
        {
          "name": "stdout",
          "output_type": "stream",
          "text": [
            "Mounted at drive\n"
          ]
        }
      ],
      "source": [
        "from google.colab import drive\n",
        "drive.mount('drive')"
      ]
    },
    {
      "cell_type": "code",
      "execution_count": null,
      "metadata": {
        "id": "p6hjKP69dUhf"
      },
      "outputs": [],
      "source": [
        "from IPython.display import clear_output, display, Image"
      ]
    },
    {
      "cell_type": "markdown",
      "metadata": {
        "id": "H9VgYTulHDvw"
      },
      "source": [
        "## Install ```ultralytics``` library"
      ]
    },
    {
      "cell_type": "code",
      "execution_count": null,
      "metadata": {
        "id": "vRKvgtEbdSOn"
      },
      "outputs": [],
      "source": [
        "!pip install ultralytics\n",
        "clear_output()"
      ]
    },
    {
      "cell_type": "markdown",
      "metadata": {
        "id": "ie9hFRpLHItI"
      },
      "source": [
        "## Install ```PaddleOCR``` library for OCR operation"
      ]
    },
    {
      "cell_type": "code",
      "execution_count": null,
      "metadata": {
        "colab": {
          "background_save": true
        },
        "id": "VIzGBnBp2BWs"
      },
      "outputs": [],
      "source": [
        "!python -m pip install paddlepaddle -i https://pypi.tuna.tsinghua.edu.cn/simple\n",
        "clear_output()"
      ]
    },
    {
      "cell_type": "code",
      "execution_count": null,
      "metadata": {
        "id": "YccXjRfs2Iel"
      },
      "outputs": [],
      "source": [
        "!pip install \"paddleocr>=2.0.1\" # Recommend to use version 2.0.1+\n",
        "clear_output()"
      ]
    },
    {
      "cell_type": "markdown",
      "metadata": {
        "id": "8NMBMBoDHOeh"
      },
      "source": [
        "## Unzip YOLO model weights"
      ]
    },
    {
      "cell_type": "code",
      "execution_count": null,
      "metadata": {
        "id": "-x4oGG9Ed-Rb"
      },
      "outputs": [],
      "source": [
        "!unzip -xq '.../odometer_detection_model.zip'"
      ]
    },
    {
      "cell_type": "code",
      "execution_count": null,
      "metadata": {
        "id": "s0TZuXugd6jN"
      },
      "outputs": [],
      "source": [
        "from ultralytics import YOLO\n",
        "\n",
        "yolov8_model = YOLO(\"/content/content/runs/detect/train/weights/best.pt\")"
      ]
    },
    {
      "cell_type": "markdown",
      "metadata": {
        "id": "_PfH0BQiHTrX"
      },
      "source": [
        "## Do odometer detection using YOLO"
      ]
    },
    {
      "cell_type": "markdown",
      "metadata": {
        "id": "o-hm2uGOHYvC"
      },
      "source": [
        "In this part, I used the YOLO model to detect the odometer part from images and then crop and save the image."
      ]
    },
    {
      "cell_type": "code",
      "execution_count": null,
      "metadata": {
        "colab": {
          "base_uri": "https://localhost:8080/"
        },
        "id": "D0j3UHuPeeKk",
        "outputId": "87dcf172-20cb-41f8-cfe4-2948601ca094"
      },
      "outputs": [],
      "source": [
        "val_dir = '.../images/val'\n",
        "images = sorted(glob(val_dir+'/*'))\n",
        "\n",
        "if os.path.exists('odometers'):\n",
        "  os.makedirs('odometers')\n",
        "\n",
        "for image in images:\n",
        "  result = yolov8_model.predict(source=image, conf=0.25, stream=False)\n",
        "  result[0].save_crop(f\"/content/odometers/{image.split('/')[-1].split('.')[0]}\")"
      ]
    },
    {
      "cell_type": "markdown",
      "metadata": {
        "id": "0MQYSg7-H452"
      },
      "source": [
        "## OCR operation"
      ]
    },
    {
      "cell_type": "markdown",
      "metadata": {
        "id": "RwilXDbJgBHW"
      },
      "source": [
        "### Do operation on 1 image"
      ]
    },
    {
      "cell_type": "code",
      "execution_count": null,
      "metadata": {
        "colab": {
          "base_uri": "https://localhost:8080/"
        },
        "id": "832ufN9S2_BI",
        "outputId": "dab1901a-ad13-4fda-f5fa-3b0763028505"
      },
      "outputs": [
        {
          "name": "stdout",
          "output_type": "stream",
          "text": [
            "[2024/05/26 10:50:06] ppocr DEBUG: Namespace(help='==SUPPRESS==', use_gpu=False, use_xpu=False, use_npu=False, ir_optim=True, use_tensorrt=False, min_subgraph_size=15, precision='fp32', gpu_mem=500, gpu_id=0, image_dir='./odometers/06c0c8f4-5496-4c4f-8dd4-1ed6c776763f/odometer/im.jpg.jpg', page_num=0, det_algorithm='DB', det_model_dir='/root/.paddleocr/whl/det/en/en_PP-OCRv3_det_infer', det_limit_side_len=960, det_limit_type='max', det_box_type='quad', det_db_thresh=0.3, det_db_box_thresh=0.6, det_db_unclip_ratio=1.5, max_batch_size=10, use_dilation=False, det_db_score_mode='fast', det_east_score_thresh=0.8, det_east_cover_thresh=0.1, det_east_nms_thresh=0.2, det_sast_score_thresh=0.5, det_sast_nms_thresh=0.2, det_pse_thresh=0, det_pse_box_thresh=0.85, det_pse_min_area=16, det_pse_scale=1, scales=[8, 16, 32], alpha=1.0, beta=1.0, fourier_degree=5, rec_algorithm='SVTR_LCNet', rec_model_dir='/root/.paddleocr/whl/rec/en/en_PP-OCRv4_rec_infer', rec_image_inverse=True, rec_image_shape='3, 48, 320', rec_batch_num=6, max_text_length=25, rec_char_dict_path='/usr/local/lib/python3.10/dist-packages/paddleocr/ppocr/utils/en_dict.txt', use_space_char=True, vis_font_path='./doc/fonts/simfang.ttf', drop_score=0.5, e2e_algorithm='PGNet', e2e_model_dir=None, e2e_limit_side_len=768, e2e_limit_type='max', e2e_pgnet_score_thresh=0.5, e2e_char_dict_path='./ppocr/utils/ic15_dict.txt', e2e_pgnet_valid_set='totaltext', e2e_pgnet_mode='fast', use_angle_cls=True, cls_model_dir='/root/.paddleocr/whl/cls/ch_ppocr_mobile_v2.0_cls_infer', cls_image_shape='3, 48, 192', label_list=['0', '180'], cls_batch_num=6, cls_thresh=0.9, enable_mkldnn=False, cpu_threads=10, use_pdserving=False, warmup=False, sr_model_dir=None, sr_image_shape='3, 32, 128', sr_batch_num=1, draw_img_save_dir='./inference_results', save_crop_res=False, crop_res_save_dir='./output', use_mp=False, total_process_num=1, process_id=0, benchmark=False, save_log_path='./log_output/', show_log=True, use_onnx=False, output='./output', table_max_len=488, table_algorithm='TableAttn', table_model_dir=None, merge_no_span_structure=True, table_char_dict_path=None, layout_model_dir=None, layout_dict_path=None, layout_score_threshold=0.5, layout_nms_threshold=0.5, kie_algorithm='LayoutXLM', ser_model_dir=None, re_model_dir=None, use_visual_backbone=True, ser_dict_path='../train_data/XFUND/class_list_xfun.txt', ocr_order_method=None, mode='structure', image_orientation=False, layout=True, table=True, ocr=True, recovery=False, use_pdf2docx_api=False, invert=False, binarize=False, alphacolor=(255, 255, 255), lang='en', det=True, rec=True, type='ocr', ocr_version='PP-OCRv4', structure_version='PP-StructureV2')\n",
            "[2024/05/26 10:50:08] ppocr INFO: **********./odometers/06c0c8f4-5496-4c4f-8dd4-1ed6c776763f/odometer/im.jpg.jpg**********\n",
            "[2024/05/26 10:50:09] ppocr DEBUG: dt_boxes num : 1, elapsed : 0.07451868057250977\n",
            "[2024/05/26 10:50:09] ppocr DEBUG: cls num  : 1, elapsed : 0.029668569564819336\n",
            "[2024/05/26 10:50:09] ppocr DEBUG: rec_res num  : 1, elapsed : 0.12517786026000977\n",
            "[2024/05/26 10:50:09] ppocr INFO: [[[28.0, 17.0], [281.0, 19.0], [280.0, 86.0], [28.0, 84.0]], ('16373', 0.9868763089179993)]\n"
          ]
        }
      ],
      "source": [
        "!paddleocr --image_dir ./odometers/06c0c8f4-5496-4c4f-8dd4-1ed6c776763f/odometer/im.jpg.jpg --use_angle_cls true --lang en --use_gpu false"
      ]
    },
    {
      "cell_type": "markdown",
      "metadata": {
        "id": "8TIDJxflH7Wv"
      },
      "source": [
        "First of all, we need to do some preprocessing on images. And after that feed this image to OCR model. I used Paddle OCR library."
      ]
    },
    {
      "cell_type": "code",
      "execution_count": null,
      "metadata": {
        "id": "hmEXPfwCivaF"
      },
      "outputs": [],
      "source": [
        "def preprocess(image_path):\n",
        "    croped_image = cv2.imread(image_path, cv2.IMREAD_GRAYSCALE)\n",
        "\n",
        "    # Resize the image to a larger size\n",
        "    resized_image = cv2.resize(croped_image, None, fx=2, fy=2, interpolation=cv2.INTER_CUBIC)\n",
        "\n",
        "    # Apply Gaussian blur to reduce noise\n",
        "    blurred = cv2.GaussianBlur(resized_image, (5, 5), 0)\n",
        "\n",
        "    # Apply adaptive thresholding to enhance text\n",
        "    _, binary = cv2.threshold(blurred, 0, 255, cv2.THRESH_BINARY + cv2.THRESH_OTSU)\n",
        "\n",
        "    # Apply sharpening filter\n",
        "    kernel = np.array([[0, -1, 0], [-1, 5, -1], [0, -1, 0]])\n",
        "    sharpened = cv2.filter2D(binary, -1, kernel)\n",
        "\n",
        "    # Increase contrast\n",
        "    alpha = 2.0  # Simple contrast control\n",
        "    beta = 0     # Simple brightness control\n",
        "    contrasted = cv2.convertScaleAbs(sharpened, alpha=alpha, beta=beta)\n",
        "\n",
        "    return contrasted"
      ]
    },
    {
      "cell_type": "code",
      "execution_count": null,
      "metadata": {
        "colab": {
          "base_uri": "https://localhost:8080/"
        },
        "id": "h9WD1a3U7iIN",
        "outputId": "ff6f4b1d-dc40-481a-8d95-2861882f6ed9"
      },
      "outputs": [
        {
          "data": {
            "text/plain": [
              "True"
            ]
          },
          "execution_count": 14,
          "metadata": {},
          "output_type": "execute_result"
        }
      ],
      "source": [
        "cv2.imwrite('processed_img.jpg', preprocess('/content/odometers/06c0c8f4-5496-4c4f-8dd4-1ed6c776763f/odometer/im.jpg.jpg'))"
      ]
    },
    {
      "cell_type": "code",
      "execution_count": null,
      "metadata": {
        "colab": {
          "base_uri": "https://localhost:8080/"
        },
        "id": "kOof3loj8WCx",
        "outputId": "9928c074-13f1-46cb-e0d3-86d545d4a8cb"
      },
      "outputs": [
        {
          "name": "stdout",
          "output_type": "stream",
          "text": [
            "[2024/05/26 10:52:10] ppocr DEBUG: Namespace(help='==SUPPRESS==', use_gpu=False, use_xpu=False, use_npu=False, ir_optim=True, use_tensorrt=False, min_subgraph_size=15, precision='fp32', gpu_mem=500, gpu_id=0, image_dir='./processed_img.jpg', page_num=0, det_algorithm='DB', det_model_dir='/root/.paddleocr/whl/det/en/en_PP-OCRv3_det_infer', det_limit_side_len=960, det_limit_type='max', det_box_type='quad', det_db_thresh=0.3, det_db_box_thresh=0.6, det_db_unclip_ratio=1.5, max_batch_size=10, use_dilation=False, det_db_score_mode='fast', det_east_score_thresh=0.8, det_east_cover_thresh=0.1, det_east_nms_thresh=0.2, det_sast_score_thresh=0.5, det_sast_nms_thresh=0.2, det_pse_thresh=0, det_pse_box_thresh=0.85, det_pse_min_area=16, det_pse_scale=1, scales=[8, 16, 32], alpha=1.0, beta=1.0, fourier_degree=5, rec_algorithm='SVTR_LCNet', rec_model_dir='/root/.paddleocr/whl/rec/en/en_PP-OCRv4_rec_infer', rec_image_inverse=True, rec_image_shape='3, 48, 320', rec_batch_num=6, max_text_length=25, rec_char_dict_path='/usr/local/lib/python3.10/dist-packages/paddleocr/ppocr/utils/en_dict.txt', use_space_char=True, vis_font_path='./doc/fonts/simfang.ttf', drop_score=0.5, e2e_algorithm='PGNet', e2e_model_dir=None, e2e_limit_side_len=768, e2e_limit_type='max', e2e_pgnet_score_thresh=0.5, e2e_char_dict_path='./ppocr/utils/ic15_dict.txt', e2e_pgnet_valid_set='totaltext', e2e_pgnet_mode='fast', use_angle_cls=True, cls_model_dir='/root/.paddleocr/whl/cls/ch_ppocr_mobile_v2.0_cls_infer', cls_image_shape='3, 48, 192', label_list=['0', '180'], cls_batch_num=6, cls_thresh=0.9, enable_mkldnn=False, cpu_threads=10, use_pdserving=False, warmup=False, sr_model_dir=None, sr_image_shape='3, 32, 128', sr_batch_num=1, draw_img_save_dir='./inference_results', save_crop_res=False, crop_res_save_dir='./output', use_mp=False, total_process_num=1, process_id=0, benchmark=False, save_log_path='./log_output/', show_log=True, use_onnx=False, output='./output', table_max_len=488, table_algorithm='TableAttn', table_model_dir=None, merge_no_span_structure=True, table_char_dict_path=None, layout_model_dir=None, layout_dict_path=None, layout_score_threshold=0.5, layout_nms_threshold=0.5, kie_algorithm='LayoutXLM', ser_model_dir=None, re_model_dir=None, use_visual_backbone=True, ser_dict_path='../train_data/XFUND/class_list_xfun.txt', ocr_order_method=None, mode='structure', image_orientation=False, layout=True, table=True, ocr=True, recovery=False, use_pdf2docx_api=False, invert=False, binarize=False, alphacolor=(255, 255, 255), lang='en', det=True, rec=True, type='ocr', ocr_version='PP-OCRv4', structure_version='PP-StructureV2')\n",
            "[2024/05/26 10:52:11] ppocr INFO: **********./processed_img.jpg**********\n",
            "[2024/05/26 10:52:12] ppocr DEBUG: dt_boxes num : 1, elapsed : 0.1552286148071289\n",
            "[2024/05/26 10:52:12] ppocr DEBUG: cls num  : 1, elapsed : 0.026247739791870117\n",
            "[2024/05/26 10:52:12] ppocr DEBUG: rec_res num  : 1, elapsed : 0.12546753883361816\n",
            "[2024/05/26 10:52:12] ppocr INFO: [[[44.0, 44.0], [549.0, 47.0], [549.0, 168.0], [44.0, 166.0]], ('116373', 0.8892045021057129)]\n"
          ]
        }
      ],
      "source": [
        "!paddleocr --image_dir ./processed_img.jpg --use_angle_cls true --lang en --use_gpu false"
      ]
    },
    {
      "cell_type": "markdown",
      "metadata": {
        "id": "TQHcbonWIJgp"
      },
      "source": [
        "## Do detection and plot the results"
      ]
    },
    {
      "cell_type": "code",
      "execution_count": null,
      "metadata": {
        "id": "e9JiGi9P8rbc"
      },
      "outputs": [],
      "source": [
        "!mkdir paddle_ocr"
      ]
    },
    {
      "cell_type": "code",
      "execution_count": null,
      "metadata": {
        "colab": {
          "base_uri": "https://localhost:8080/",
          "height": 1000
        },
        "id": "3uDhoGeAkBJx",
        "outputId": "5b18bb01-9dda-476e-e620-72866045b04a"
      },
      "outputs": [
        {
          "name": "stdout",
          "output_type": "stream",
          "text": [
            "[2024/05/26 08:23:57] ppocr DEBUG: Namespace(help='==SUPPRESS==', use_gpu=False, use_xpu=False, use_npu=False, ir_optim=True, use_tensorrt=False, min_subgraph_size=15, precision='fp32', gpu_mem=500, gpu_id=0, image_dir=None, page_num=0, det_algorithm='DB', det_model_dir='/root/.paddleocr/whl/det/en/en_PP-OCRv3_det_infer', det_limit_side_len=960, det_limit_type='max', det_box_type='quad', det_db_thresh=0.3, det_db_box_thresh=0.6, det_db_unclip_ratio=1.5, max_batch_size=10, use_dilation=False, det_db_score_mode='fast', det_east_score_thresh=0.8, det_east_cover_thresh=0.1, det_east_nms_thresh=0.2, det_sast_score_thresh=0.5, det_sast_nms_thresh=0.2, det_pse_thresh=0, det_pse_box_thresh=0.85, det_pse_min_area=16, det_pse_scale=1, scales=[8, 16, 32], alpha=1.0, beta=1.0, fourier_degree=5, rec_algorithm='SVTR_LCNet', rec_model_dir='/root/.paddleocr/whl/rec/en/en_PP-OCRv4_rec_infer', rec_image_inverse=True, rec_image_shape='3, 48, 320', rec_batch_num=6, max_text_length=25, rec_char_dict_path='/usr/local/lib/python3.10/dist-packages/paddleocr/ppocr/utils/en_dict.txt', use_space_char=True, vis_font_path='./doc/fonts/simfang.ttf', drop_score=0.5, e2e_algorithm='PGNet', e2e_model_dir=None, e2e_limit_side_len=768, e2e_limit_type='max', e2e_pgnet_score_thresh=0.5, e2e_char_dict_path='./ppocr/utils/ic15_dict.txt', e2e_pgnet_valid_set='totaltext', e2e_pgnet_mode='fast', use_angle_cls=True, cls_model_dir='/root/.paddleocr/whl/cls/ch_ppocr_mobile_v2.0_cls_infer', cls_image_shape='3, 48, 192', label_list=['0', '180'], cls_batch_num=6, cls_thresh=0.9, enable_mkldnn=False, cpu_threads=10, use_pdserving=False, warmup=False, sr_model_dir=None, sr_image_shape='3, 32, 128', sr_batch_num=1, draw_img_save_dir='./inference_results', save_crop_res=False, crop_res_save_dir='./output', use_mp=False, total_process_num=1, process_id=0, benchmark=False, save_log_path='./log_output/', show_log=True, use_onnx=False, output='./output', table_max_len=488, table_algorithm='TableAttn', table_model_dir=None, merge_no_span_structure=True, table_char_dict_path=None, layout_model_dir=None, layout_dict_path=None, layout_score_threshold=0.5, layout_nms_threshold=0.5, kie_algorithm='LayoutXLM', ser_model_dir=None, re_model_dir=None, use_visual_backbone=True, ser_dict_path='../train_data/XFUND/class_list_xfun.txt', ocr_order_method=None, mode='structure', image_orientation=False, layout=True, table=True, ocr=True, recovery=False, use_pdf2docx_api=False, invert=False, binarize=False, alphacolor=(255, 255, 255), lang='en', det=True, rec=True, type='ocr', ocr_version='PP-OCRv4', structure_version='PP-StructureV2')\n",
            "/content/odometers/0c70e8b8-2c21-4faa-a1dd-1e0ee6f02e58/odometer/im.jpg.jpg\n",
            "[2024/05/26 08:24:00] ppocr DEBUG: dt_boxes num : 0, elapsed : 0.12406396865844727\n",
            "[2024/05/26 08:24:02] ppocr DEBUG: cls num  : 0, elapsed : 0\n",
            "[2024/05/26 08:24:02] ppocr DEBUG: rec_res num  : 0, elapsed : 2.86102294921875e-06\n",
            "None\n"
          ]
        },
        {
          "data": {
            "image/png": "[encoded data removed]",
            "text/plain": [
              "<Figure size 640x480 with 1 Axes>"
            ]
          },
          "metadata": {},
          "output_type": "display_data"
        },
        {
          "name": "stdout",
          "output_type": "stream",
          "text": [
            "/content/odometers/0caa5ccf-61be-4111-a75d-9285c9956b58/odometer/im.jpg.jpg\n",
            "[2024/05/26 08:24:02] ppocr DEBUG: dt_boxes num : 1, elapsed : 0.05257058143615723\n",
            "[2024/05/26 08:24:02] ppocr DEBUG: cls num  : 1, elapsed : 0.03846883773803711\n",
            "[2024/05/26 08:24:02] ppocr DEBUG: rec_res num  : 1, elapsed : 0.08652305603027344\n",
            "[[[[15.0, 17.0], [94.0, 17.0], [94.0, 38.0], [15.0, 38.0]], ('79090.', 0.874281644821167)]]\n"
          ]
        },
        {
          "data": {
            "image/png": "[encoded data removed]",
            "text/plain": [
              "<Figure size 640x480 with 1 Axes>"
            ]
          },
          "metadata": {},
          "output_type": "display_data"
        },
        {
          "name": "stdout",
          "output_type": "stream",
          "text": [
            "/content/odometers/1aeb3991-9a35-4823-b2e3-339b1e6dd53b/odometer/im.jpg.jpg\n",
            "[2024/05/26 08:24:02] ppocr DEBUG: dt_boxes num : 1, elapsed : 0.0210421085357666\n",
            "[2024/05/26 08:24:02] ppocr DEBUG: cls num  : 1, elapsed : 0.013552427291870117\n",
            "[2024/05/26 08:24:02] ppocr DEBUG: rec_res num  : 1, elapsed : 0.0635225772857666\n",
            "[[[[12.0, 17.0], [98.0, 17.0], [98.0, 39.0], [12.0, 39.0]], ('58240.', 0.9328845143318176)]]\n"
          ]
        },
        {
          "data": {
            "image/png": "[encoded data removed]",
            "text/plain": [
              "<Figure size 640x480 with 1 Axes>"
            ]
          },
          "metadata": {},
          "output_type": "display_data"
        },
        {
          "name": "stdout",
          "output_type": "stream",
          "text": [
            "/content/odometers/1c6142f6-5eb2-43d8-a347-78d4c6156a27/odometer/im.jpg.jpg\n",
            "[2024/05/26 08:24:02] ppocr DEBUG: dt_boxes num : 0, elapsed : 0.04571676254272461\n",
            "[2024/05/26 08:24:02] ppocr DEBUG: cls num  : 0, elapsed : 0\n",
            "[2024/05/26 08:24:02] ppocr DEBUG: rec_res num  : 0, elapsed : 2.1457672119140625e-06\n",
            "None\n"
          ]
        },
        {
          "data": {
            "image/png": "[encoded data removed]",
            "text/plain": [
              "<Figure size 640x480 with 1 Axes>"
            ]
          },
          "metadata": {},
          "output_type": "display_data"
        },
        {
          "name": "stdout",
          "output_type": "stream",
          "text": [
            "/content/odometers/2ce7942a-399f-44e9-a42d-8a2e220b10ec/odometer/im.jpg.jpg\n",
            "[2024/05/26 08:24:02] ppocr DEBUG: dt_boxes num : 0, elapsed : 0.06474971771240234\n",
            "[2024/05/26 08:24:02] ppocr DEBUG: cls num  : 0, elapsed : 0\n",
            "[2024/05/26 08:24:02] ppocr DEBUG: rec_res num  : 0, elapsed : 2.384185791015625e-06\n",
            "None\n"
          ]
        },
        {
          "data": {
            "image/png": "[encoded data removed]",
            "text/plain": [
              "<Figure size 640x480 with 1 Axes>"
            ]
          },
          "metadata": {},
          "output_type": "display_data"
        },
        {
          "name": "stdout",
          "output_type": "stream",
          "text": [
            "/content/odometers/3aece9a1-1dce-4de2-9f1a-80d3c81c43bd/odometer/im.jpg.jpg\n",
            "[2024/05/26 08:24:03] ppocr DEBUG: dt_boxes num : 2, elapsed : 0.017874479293823242\n",
            "[2024/05/26 08:24:03] ppocr DEBUG: cls num  : 2, elapsed : 0.03844022750854492\n",
            "[2024/05/26 08:24:03] ppocr DEBUG: rec_res num  : 2, elapsed : 0.12274742126464844\n",
            "[[[[37.0, 0.0], [102.0, 0.0], [102.0, 16.0], [37.0, 16.0]], ('F6', 0.5881154537200928)], [[[14.0, 15.0], [94.0, 18.0], [92.0, 39.0], [13.0, 36.0]], ('02$804', 0.9167389273643494)]]\n"
          ]
        },
        {
          "data": {
            "image/png": "[encoded data removed]",
            "text/plain": [
              "<Figure size 640x480 with 1 Axes>"
            ]
          },
          "metadata": {},
          "output_type": "display_data"
        },
        {
          "name": "stdout",
          "output_type": "stream",
          "text": [
            "/content/odometers/3be914c3-8fe1-4486-82a5-c8a6c16b19cb/odometer/im.jpg.jpg\n",
            "[2024/05/26 08:24:03] ppocr DEBUG: dt_boxes num : 1, elapsed : 0.014858484268188477\n",
            "[2024/05/26 08:24:03] ppocr DEBUG: cls num  : 1, elapsed : 0.013385772705078125\n",
            "[2024/05/26 08:24:03] ppocr DEBUG: rec_res num  : 1, elapsed : 0.05885028839111328\n",
            "None\n"
          ]
        },
        {
          "data": {
            "image/png": "[encoded data removed]",
            "text/plain": [
              "<Figure size 640x480 with 1 Axes>"
            ]
          },
          "metadata": {},
          "output_type": "display_data"
        },
        {
          "name": "stdout",
          "output_type": "stream",
          "text": [
            "/content/odometers/3c3fde66-9bb3-4abc-8841-5bd604800e0d/odometer/im.jpg.jpg\n",
            "[2024/05/26 08:24:03] ppocr DEBUG: dt_boxes num : 1, elapsed : 0.016841650009155273\n",
            "[2024/05/26 08:24:04] ppocr DEBUG: cls num  : 1, elapsed : 0.017533302307128906\n",
            "[2024/05/26 08:24:04] ppocr DEBUG: rec_res num  : 1, elapsed : 0.08176541328430176\n",
            "[[[[8.0, 17.0], [123.0, 15.0], [123.0, 42.0], [8.0, 44.0]], ('239295', 0.9701142311096191)]]\n"
          ]
        },
        {
          "data": {
            "image/png": "[encoded data removed]",
            "text/plain": [
              "<Figure size 640x480 with 1 Axes>"
            ]
          },
          "metadata": {},
          "output_type": "display_data"
        },
        {
          "name": "stdout",
          "output_type": "stream",
          "text": [
            "/content/odometers/3eba9e92-1193-46a3-9e9a-fbe1302d0ace/odometer/im.jpg.jpg\n",
            "[2024/05/26 08:24:05] ppocr DEBUG: dt_boxes num : 1, elapsed : 0.10904240608215332\n",
            "[2024/05/26 08:24:06] ppocr DEBUG: cls num  : 1, elapsed : 0.012094736099243164\n",
            "[2024/05/26 08:24:06] ppocr DEBUG: rec_res num  : 1, elapsed : 0.056234121322631836\n",
            "[[[[20.0, 31.0], [225.0, 27.0], [226.0, 80.0], [21.0, 84.0]], ('*82E6E', 0.8767159581184387)]]\n"
          ]
        },
        {
          "data": {
            "image/png": "[encoded data removed]",
            "text/plain": [
              "<Figure size 640x480 with 1 Axes>"
            ]
          },
          "metadata": {},
          "output_type": "display_data"
        },
        {
          "name": "stdout",
          "output_type": "stream",
          "text": [
            "/content/odometers/4aa4e0ae-4393-4353-9590-9ea8b9907c9b/odometer/im.jpg2.jpg\n",
            "[2024/05/26 08:24:07] ppocr DEBUG: dt_boxes num : 1, elapsed : 0.07894349098205566\n",
            "[2024/05/26 08:24:07] ppocr DEBUG: cls num  : 1, elapsed : 0.010524749755859375\n",
            "[2024/05/26 08:24:07] ppocr DEBUG: rec_res num  : 1, elapsed : 0.06381607055664062\n",
            "[[[[28.0, 31.0], [242.0, 34.0], [240.0, 104.0], [26.0, 100.0]], ('hB5l l', 0.6959729790687561)]]\n"
          ]
        },
        {
          "data": {
            "image/png": "[encoded data removed]",
            "text/plain": [
              "<Figure size 640x480 with 1 Axes>"
            ]
          },
          "metadata": {},
          "output_type": "display_data"
        },
        {
          "name": "stdout",
          "output_type": "stream",
          "text": [
            "/content/odometers/4aa4e0ae-4393-4353-9590-9ea8b9907c9b/odometer/im.jpg.jpg\n",
            "[2024/05/26 08:24:07] ppocr DEBUG: dt_boxes num : 2, elapsed : 0.07374024391174316\n",
            "[2024/05/26 08:24:07] ppocr DEBUG: cls num  : 2, elapsed : 0.01206064224243164\n",
            "[2024/05/26 08:24:07] ppocr DEBUG: rec_res num  : 2, elapsed : 0.08728432655334473\n",
            "[[[[4.0, 27.0], [322.0, 29.0], [322.0, 96.0], [4.0, 94.0]], ('057803', 0.999703586101532)]]\n"
          ]
        },
        {
          "data": {
            "image/png": "[encoded data removed]",
            "text/plain": [
              "<Figure size 640x480 with 1 Axes>"
            ]
          },
          "metadata": {},
          "output_type": "display_data"
        },
        {
          "name": "stdout",
          "output_type": "stream",
          "text": [
            "/content/odometers/4d7edd76-69bf-493a-827d-c610c629e655/odometer/im.jpg.jpg\n",
            "[2024/05/26 08:24:07] ppocr DEBUG: dt_boxes num : 0, elapsed : 0.02780318260192871\n",
            "[2024/05/26 08:24:07] ppocr DEBUG: cls num  : 0, elapsed : 0\n",
            "[2024/05/26 08:24:07] ppocr DEBUG: rec_res num  : 0, elapsed : 1.9073486328125e-06\n",
            "None\n"
          ]
        },
        {
          "data": {
            "image/png": "[encoded data removed]",
            "text/plain": [
              "<Figure size 640x480 with 1 Axes>"
            ]
          },
          "metadata": {},
          "output_type": "display_data"
        },
        {
          "name": "stdout",
          "output_type": "stream",
          "text": [
            "/content/odometers/5a13663a-984e-46b1-bd06-0948eb2f618f/odometer/im.jpg.jpg\n",
            "[2024/05/26 08:24:07] ppocr DEBUG: dt_boxes num : 1, elapsed : 0.017163753509521484\n",
            "[2024/05/26 08:24:07] ppocr DEBUG: cls num  : 1, elapsed : 0.011489629745483398\n",
            "[2024/05/26 08:24:08] ppocr DEBUG: rec_res num  : 1, elapsed : 0.056206464767456055\n",
            "[[[[8.0, 17.0], [123.0, 15.0], [123.0, 42.0], [8.0, 44.0]], ('239295', 0.9701142311096191)]]\n"
          ]
        },
        {
          "data": {
            "image/png": "[encoded data removed]",
            "text/plain": [
              "<Figure size 640x480 with 1 Axes>"
            ]
          },
          "metadata": {},
          "output_type": "display_data"
        },
        {
          "name": "stdout",
          "output_type": "stream",
          "text": [
            "/content/odometers/5aec05a3-54de-4026-8d60-548a45d4692e/odometer/im.jpg.jpg\n",
            "[2024/05/26 08:24:08] ppocr DEBUG: dt_boxes num : 3, elapsed : 0.018217086791992188\n",
            "[2024/05/26 08:24:08] ppocr DEBUG: cls num  : 3, elapsed : 0.04574775695800781\n",
            "[2024/05/26 08:24:08] ppocr DEBUG: rec_res num  : 3, elapsed : 0.17000317573547363\n",
            "[[[[3.0, 13.0], [122.0, 19.0], [120.0, 46.0], [0.0, 40.0]], ('112193', 0.9394318461418152)]]\n"
          ]
        },
        {
          "data": {
            "image/png": "[encoded data removed]",
            "text/plain": [
              "<Figure size 640x480 with 1 Axes>"
            ]
          },
          "metadata": {},
          "output_type": "display_data"
        },
        {
          "name": "stdout",
          "output_type": "stream",
          "text": [
            "/content/odometers/6b73625d-fa33-4ec6-9f53-194432580e5f/odometer/im.jpg.jpg\n",
            "[2024/05/26 08:24:08] ppocr DEBUG: dt_boxes num : 0, elapsed : 0.032540082931518555\n",
            "[2024/05/26 08:24:08] ppocr DEBUG: cls num  : 0, elapsed : 0\n",
            "[2024/05/26 08:24:08] ppocr DEBUG: rec_res num  : 0, elapsed : 1.9073486328125e-06\n",
            "None\n"
          ]
        },
        {
          "data": {
            "image/png": "[encoded data removed]",
            "text/plain": [
              "<Figure size 640x480 with 1 Axes>"
            ]
          },
          "metadata": {},
          "output_type": "display_data"
        },
        {
          "name": "stdout",
          "output_type": "stream",
          "text": [
            "/content/odometers/6fd61537-ab8e-477e-9846-fd6e9b44243f/odometer/im.jpg.jpg\n",
            "[2024/05/26 08:24:08] ppocr DEBUG: dt_boxes num : 0, elapsed : 0.017803668975830078\n",
            "[2024/05/26 08:24:08] ppocr DEBUG: cls num  : 0, elapsed : 0\n",
            "[2024/05/26 08:24:08] ppocr DEBUG: rec_res num  : 0, elapsed : 3.337860107421875e-06\n",
            "None\n"
          ]
        },
        {
          "data": {
            "image/png": "[encoded data removed]",
            "text/plain": [
              "<Figure size 640x480 with 1 Axes>"
            ]
          },
          "metadata": {},
          "output_type": "display_data"
        }
      ],
      "source": [
        "from paddleocr import PaddleOCR,draw_ocr\n",
        "\n",
        "ocr = PaddleOCR(use_angle_cls=True, lang='en')\n",
        "for dir in sorted(glob('/content/odometers/*')):\n",
        "  for img in os.listdir(f'{dir}/odometer'):\n",
        "    contrasted = preprocess(os.path.join(dir, 'odometer', img))\n",
        "    plt.imshow(contrasted, cmap='gray')\n",
        "    cv2.imwrite(f\"/content/paddle_ocr{dir.split('/')[-1]}.jpg\", contrasted)\n",
        "    result = ocr.ocr(f\"/content/paddle_ocr{dir.split('/')[-1]}.jpg\", cls=True, )\n",
        "    print(result[0])\n",
        "    plt.axis('off')\n",
        "    plt.show()"
      ]
    },
    {
      "cell_type": "code",
      "execution_count": null,
      "metadata": {
        "id": "W3uPZp2B9ybM"
      },
      "outputs": [],
      "source": []
    }
  ],
  "metadata": {
    "colab": {
      "provenance": []
    },
    "kernelspec": {
      "display_name": "Python 3",
      "name": "python3"
    },
    "language_info": {
      "name": "python"
    }
  },
  "nbformat": 4,
  "nbformat_minor": 0
}
