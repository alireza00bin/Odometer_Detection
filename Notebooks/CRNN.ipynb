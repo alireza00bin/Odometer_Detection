{
  "cells": [
    {
      "cell_type": "markdown",
      "metadata": {
        "id": "TWzXVwIzksFO"
      },
      "source": [
        "# Captcha Recognition in Images using CRNN with CTC Loss\n",
        "\n",
        "\n"
      ]
    },
    {
      "cell_type": "markdown",
      "metadata": {
        "id": "nabUeCZh_H60"
      },
      "source": [
        "## Overview\n",
        "\n",
        "This code demonstrates a deep learning-based approach for recognizing text in images. The core architecture used is a Convolutional Recurrent Neural Network (CRNN) with the Connectionist Temporal Classification (CTC) loss. Let's break down what this code does and the significance of its components:"
      ]
    },
    {
      "cell_type": "markdown",
      "metadata": {
        "id": "qCR9Iem8_LtN"
      },
      "source": [
        "## Model Architecture"
      ]
    },
    {
      "cell_type": "markdown",
      "metadata": {
        "id": "tWyPcoys_QM8"
      },
      "source": [
        "### Convolutional Recurrent Neural Network (CRNN)\n",
        "\n",
        "The CRNN is a hybrid architecture that combines convolutional neural networks (CNNs) and recurrent neural networks (RNNs). This combination makes it particularly well-suited for tasks involving sequence recognition in images, such as text recognition. The model consists of the following components:\n",
        "\n",
        "- **Convolutional Layers:** These layers apply a series of convolution operations to the input images. Convolution helps extract meaningful features from the images, such as edges and patterns.\n",
        "\n",
        "- **Recurrent Layers (LSTM):** Bidirectional Long Short-Term Memory (LSTM) layers are used for sequence modeling. LSTMs are capable of capturing dependencies in sequential data, making them effective for recognizing text sequences within images.\n",
        "\n",
        "- **Output Layer:** The final layer uses a softmax activation function to predict the probabilities of each character in the output sequence. This is crucial for recognizing individual characters in the text.\n",
        "\n",
        "- **CTC Loss:** The model is trained using the Connectionist Temporal Classification (CTC) loss function, which is essential for sequence-to-sequence tasks like text recognition."
      ]
    },
    {
      "cell_type": "markdown",
      "metadata": {
        "id": "13LpohM6_TwO"
      },
      "source": [
        "## Connectionist Temporal Classification (CTC) Loss"
      ]
    },
    {
      "cell_type": "markdown",
      "metadata": {
        "id": "5XWjFWqL_aXs"
      },
      "source": [
        "### What is CTC Loss?\n",
        "\n",
        "CTC loss is a specialized loss function designed for sequence recognition tasks where the alignment between input and output sequences is not known beforehand. In text recognition, for example, the length of the text may not match the length of the input image. CTC loss addresses this challenge by enabling the model to learn the alignment automatically.\n",
        "![ctc_alignment_steps.svg](data:image/svg+xml;base64,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)\n"
      ]
    },
    {
      "cell_type": "markdown",
      "metadata": {
        "id": "GoS5IWqC_ef2"
      },
      "source": [
        "### How CTC Loss Works\n",
        "\n",
        "- **Label Encoding:** In text recognition, the label is typically a sequence of characters corresponding to the text in the image.\n",
        "\n",
        "- **CTC Loss Computation:** CTC loss computes the likelihood of the true label sequence given the input image and the predicted sequence of characters.\n",
        "\n",
        "- **Handling Varying Lengths:** Importantly, CTC loss can handle cases where the length of the predicted sequence doesn't exactly match the length of the true label. It introduces a special \"blank\" symbol and aligns the characters accordingly.\n",
        "\n",
        "- **Training Objective:** The training objective is to maximize the likelihood of the correct label sequence, taking into account all possible alignments."
      ]
    },
    {
      "cell_type": "markdown",
      "metadata": {
        "id": "3nVO3SUa_iI3"
      },
      "source": [
        "### Purpose of CTC Loss\n",
        "\n",
        "CTC loss serves a critical role in text recognition tasks by allowing models to:\n",
        "\n",
        "- Recognize text in images without requiring explicit character-level alignment during training.\n",
        "- Handle varying text lengths, making it suitable for scenarios with different text lengths in images.\n",
        "- Train end-to-end models that directly output character sequences without relying on intermediate steps like text localization."
      ]
    },
    {
      "cell_type": "markdown",
      "metadata": {
        "id": "DAm2144n_m41"
      },
      "source": [
        "## Project Purpose\n",
        "\n",
        "This code brings together the CRNN architecture and CTC loss to build a robust text recognition model. It demonstrates how to preprocess image data, train the model, and visualize both the training history and predictions. The model's flexibility in handling varying text lengths and its ability to learn alignment make it a valuable tool for various applications, such as OCR (Optical Character Recognition), automated data entry, and more.\n",
        "\n",
        "Feel free to adapt this code for your specific text recognition tasks and explore improvements in model architecture and hyperparameters."
      ]
    },
    {
      "cell_type": "markdown",
      "metadata": {
        "id": "3oDQDm6Clzxe"
      },
      "source": [
        "## Importing Libraries and Frameworks\n",
        "\n",
        "This code block begins by importing necessary Python libraries and TensorFlow components. These libraries and components are crucial for building and training the Convolutional Recurrent Neural Network (CRNN) model with Connectionist Temporal Classification (CTC) loss for text recognition in images.\n"
      ]
    },
    {
      "cell_type": "code",
      "execution_count": null,
      "metadata": {
        "id": "m8XSMwSYajnj"
      },
      "outputs": [],
      "source": [
        "import numpy as np\n",
        "from pathlib import Path\n",
        "import matplotlib.pyplot as plt\n",
        "import tensorflow as tf\n",
        "from tensorflow import keras"
      ]
    },
    {
      "cell_type": "code",
      "execution_count": null,
      "metadata": {
        "colab": {
          "base_uri": "https://localhost:8080/"
        },
        "id": "-_mb00fHwA6G",
        "outputId": "e6aad552-1e58-4eb1-c775-56ffdf8fad7e"
      },
      "outputs": [
        {
          "name": "stdout",
          "output_type": "stream",
          "text": [
            "Mounted at drive\n"
          ]
        }
      ],
      "source": [
        "from google.colab import drive\n",
        "drive.mount('drive')"
      ]
    },
    {
      "cell_type": "code",
      "execution_count": null,
      "metadata": {
        "id": "sYwB7Jv4z8Uz"
      },
      "outputs": [],
      "source": [
        "!unzip -xq '.../images.zip'"
      ]
    },
    {
      "cell_type": "markdown",
      "metadata": {
        "id": "o71ccW8SmvN2"
      },
      "source": [
        "## Data Preprocessing and Dataset Creation\n",
        "\n",
        "In this section, the code block accomplishes the following tasks:\n",
        "\n",
        "1. **Constants Definition**: It defines several constants crucial for data preprocessing and model training:\n",
        "   - `image_height` and `image_width`: The desired height and width of the captcha images.\n",
        "   - `batch_size`: The batch size for training the model.\n",
        "\n",
        "2. **Image Directory and File Paths**: It prepares the dataset by:\n",
        "   - Determining the directory containing the captcha images extracted from a ZIP file.\n",
        "   - Creating a list of file paths to all the captcha images within the directory.\n",
        "   - Extracting the labels from the image label file and storing them in the `labels` list.\n",
        "\n",
        "3. **Maximum Captcha Length**: It computes the maximum length of any captcha in the dataset. This information is useful for defining the model's output layer.\n",
        "\n",
        "4. **Character Set**: It creates a set of all unique characters present in the labels. This set will be used to define the output classes for the model.\n",
        "\n",
        "5. **Image Preprocessing Function**: It defines a function, `preprocess_image`, responsible for reading, decoding, and resizing the captcha images. The images are converted to grayscale.\n",
        "\n",
        "6. **Preprocessing Images and Labels**: It processes the images by applying the `preprocess_image` function to each image path. Simultaneously, it encodes the labels as sequences of integers.\n",
        "\n",
        "7. **Creating TensorFlow Datasets**: It creates TensorFlow datasets from the preprocessed images and encoded labels. These datasets will be used for training and validation.\n",
        "\n",
        "\n",
        "This section is crucial for preparing the dataset and defining the data pipeline required for training the OCR (Optical Character Recognition) model.\n"
      ]
    },
    {
      "cell_type": "code",
      "execution_count": null,
      "metadata": {
        "id": "Vjl0a4dPa3qA"
      },
      "outputs": [],
      "source": [
        "import os\n",
        "import cv2\n",
        "\n",
        "# Create a list of image file paths and corresponding labels\n",
        "def image_paths_labels(image_dir, label_file):\n",
        "  with open(label_file, 'r') as file:\n",
        "    lines = file.readlines()\n",
        "    image_paths = [os.path.join(image_dir, line.split(' ')[0]) for line in lines]\n",
        "    labels = [line.split(' ')[1].strip() for line in lines]\n",
        "  return image_paths, labels\n",
        "\n",
        "# Define a function to preprocess an image\n",
        "def preprocess_image(image_path, img_height, img_width):\n",
        "    # Read the image using OpenCV\n",
        "    img = cv2.imread(image_path, cv2.IMREAD_GRAYSCALE)\n",
        "\n",
        "    # Check if the image was loaded correctly\n",
        "    if img is None:\n",
        "        raise FileNotFoundError(f\"Image not found or unable to load: {image_path}\")\n",
        "\n",
        "    # Resize the image\n",
        "    resized_image = cv2.resize(img, (img_width, img_height), interpolation=cv2.INTER_CUBIC)\n",
        "\n",
        "    # Apply Gaussian blur to reduce noise\n",
        "    blurred = cv2.GaussianBlur(resized_image, (5, 5), 0)\n",
        "\n",
        "    # Apply adaptive thresholding to enhance text\n",
        "    _, binary = cv2.threshold(blurred, 0, 255, cv2.THRESH_BINARY + cv2.THRESH_OTSU)\n",
        "\n",
        "    # Apply sharpening filter\n",
        "    kernel = np.array([[0, -1, 0], [-1, 5, -1], [0, -1, 0]])\n",
        "    sharpened = cv2.filter2D(binary, -1, kernel)\n",
        "\n",
        "    # Increase contrast\n",
        "    alpha = 2.0  # Simple contrast control\n",
        "    beta = 0     # Simple brightness control\n",
        "    contrasted = cv2.convertScaleAbs(sharpened, alpha=alpha, beta=beta)\n",
        "\n",
        "    # Invert the colors (white to black and black to white)\n",
        "    inverted = cv2.bitwise_not(contrasted)\n",
        "\n",
        "    # Convert to tensor\n",
        "    img_tensor = tf.convert_to_tensor(inverted, dtype=tf.float32)\n",
        "    img_tensor = tf.expand_dims(img_tensor, axis=-1)  # Add the channel dimension\n",
        "    return img_tensor\n",
        "\n",
        "def padding(encoded_labels, max_label_length=6):\n",
        "  # Pad labels to the maximum length and convert to tensors\n",
        "  padded_labels = [[10] * (max_label_length - len(label)) + label for label in encoded_labels]\n",
        "  label_tensors = [tf.convert_to_tensor(label, dtype=tf.int32) for label in padded_labels]\n",
        "  return label_tensors"
      ]
    },
    {
      "cell_type": "code",
      "execution_count": null,
      "metadata": {
        "id": "7UrQQIYlVItb"
      },
      "outputs": [],
      "source": [
        "train_image_dir = '/content/content/train'\n",
        "train_label_file = '.../train.txt'\n",
        "val_image_dir = '/content/content/val'\n",
        "val_label_file = '.../val.txt'\n",
        "\n",
        "train_image_paths, train_labels = image_paths_labels(train_image_dir, train_label_file)\n",
        "val_image_paths, val_labels = image_paths_labels(val_image_dir, val_label_file)\n",
        "\n",
        "# Create a set of all unique characters in the labels\n",
        "all_possible_characters = {'0', '1', '2', '3', '4', '5', '6', '7', '8', '9', '10'}\n",
        "\n",
        "# Define constants\n",
        "image_height, image_width = 50, 200\n",
        "batch_size = 16\n",
        "\n",
        "# Preprocess images and labels\n",
        "train_images = [preprocess_image(image_path, image_height, image_width) for image_path in train_image_paths]\n",
        "val_images = [preprocess_image(image_path, image_height, image_width) for image_path in val_image_paths]\n",
        "\n",
        "# Convert each label to a list of its integer digits\n",
        "train_encoded_labels = [[int(char) for char in label] for label in train_labels]\n",
        "val_encoded_labels = [[int(char) for char in label] for label in val_labels]\n",
        "\n",
        "# Create TensorFlow Datasets\n",
        "train_dataset = tf.data.Dataset.from_tensor_slices((train_images, padding(train_encoded_labels, max_label_length=6))).batch(batch_size).prefetch(tf.data.AUTOTUNE)\n",
        "val_dataset = tf.data.Dataset.from_tensor_slices((val_images, padding(val_encoded_labels, max_label_length=6))).batch(batch_size).prefetch(tf.data.AUTOTUNE)"
      ]
    },
    {
      "cell_type": "markdown",
      "metadata": {
        "id": "nS8k4wRqnF0m"
      },
      "source": [
        "## Visualizing Random Samples from the Dataset\n",
        "\n",
        "In this section, the code defines a Python function and demonstrates how to use it for visualizing random samples from a dataset.\n",
        "\n",
        "### `visualize_random_samples` Function\n",
        "\n",
        "This function serves the following purposes:\n",
        "\n",
        "- **Visualization**: It visualizes random samples from a given dataset, allowing you to inspect the captcha images and their corresponding labels.\n",
        "\n",
        "- **Arguments**:\n",
        "  - `dataset` (tf.data.Dataset): The dataset containing image-label pairs.\n",
        "  - `int_to_char` (dict): A dictionary that maps integer labels to characters, enabling label decoding.\n",
        "  - `num_samples` (int): The number of random samples to visualize.\n",
        "\n",
        "- **Returns**: None\n",
        "\n",
        "The function performs the following steps:\n",
        "\n",
        "1. **Create Dataset Iterator**: It creates an iterator for the provided dataset using the `iter` function. This iterator will allow us to iterate through the dataset and access random samples.\n",
        "\n",
        "2. **Iterate and Visualize**: Inside a loop that runs for `num_samples` iterations, the function does the following:\n",
        "   - Retrieves the next random sample from the dataset using the iterator.\n",
        "   - Decodes the label by converting the integer label values to characters using the `int_to_char` mapping.\n",
        "   - Displays the captcha image alongside its label:\n",
        "     - The image is displayed using Matplotlib with grayscale color mapping.\n",
        "     - The label is shown as the image title.\n",
        "\n",
        "3. **Example Usage**: An example usage of the `visualize_random_samples` function is provided. It visualizes five random samples from the `validation_dataset` and uses the `int_to_char` mapping to decode and display their labels.\n",
        "\n",
        "This section helps you visually inspect and verify the quality of the data in your dataset, ensuring that the images and labels are correctly paired. It's a valuable step in understanding your data before training the OCR model.\n",
        "\n"
      ]
    },
    {
      "cell_type": "code",
      "execution_count": null,
      "metadata": {
        "colab": {
          "base_uri": "https://localhost:8080/",
          "height": 612
        },
        "id": "MeqqEePGay3k",
        "outputId": "c0ca81e4-9c09-4a27-b02b-79f959b73fe1"
      },
      "outputs": [
        {
          "data": {
            "image/png": "[encoded data removed]",
            "text/plain": [
              "<Figure size 400x200 with 1 Axes>"
            ]
          },
          "metadata": {},
          "output_type": "display_data"
        },
        {
          "data": {
            "image/png": "[encoded data removed]",
            "text/plain": [
              "<Figure size 400x200 with 1 Axes>"
            ]
          },
          "metadata": {},
          "output_type": "display_data"
        },
        {
          "data": {
            "image/png": "[encoded data removed]",
            "text/plain": [
              "<Figure size 400x200 with 1 Axes>"
            ]
          },
          "metadata": {},
          "output_type": "display_data"
        },
        {
          "data": {
            "image/png": "[encoded data removed]",
            "text/plain": [
              "<Figure size 400x200 with 1 Axes>"
            ]
          },
          "metadata": {},
          "output_type": "display_data"
        },
        {
          "data": {
            "image/png": "[encoded data removed]",
            "text/plain": [
              "<Figure size 400x200 with 1 Axes>"
            ]
          },
          "metadata": {},
          "output_type": "display_data"
        }
      ],
      "source": [
        "def visualize_batch_samples(dataset, num_samples=5):\n",
        "    \"\"\"\n",
        "    Visualize samples from the first batch of a dataset.\n",
        "\n",
        "    Args:\n",
        "        dataset (tf.data.Dataset): The dataset containing image-label pairs.\n",
        "        num_samples (int): The number of samples to visualize.\n",
        "\n",
        "    Returns:\n",
        "        None\n",
        "    \"\"\"\n",
        "    # Create an iterator for the dataset and get the first batch\n",
        "    dataset_iter = iter(dataset)\n",
        "    images, labels = next(dataset_iter)\n",
        "\n",
        "    # Ensure num_samples does not exceed the batch size\n",
        "    num_samples = min(num_samples, images.shape[0])\n",
        "\n",
        "    # Iterate through the samples in the batch and visualize them\n",
        "    for i in range(num_samples):\n",
        "        image = images[i].numpy()\n",
        "        label = labels[i].numpy()\n",
        "\n",
        "        # Replace -1 with blank space and convert to string\n",
        "        label_str = ''.join(['' if x == 10 else str(x) for x in label])\n",
        "\n",
        "        # Display the image and label\n",
        "        plt.figure(figsize=(4, 2))\n",
        "        plt.imshow(image[:, :, 0], cmap='gray')\n",
        "        plt.title(\"Label: \" + label_str)\n",
        "        plt.axis('off')\n",
        "        plt.show()\n",
        "\n",
        "# Example usage:\n",
        "visualize_batch_samples(val_dataset, num_samples=5)"
      ]
    },
    {
      "cell_type": "markdown",
      "metadata": {
        "id": "1K732enintwx"
      },
      "source": [
        "## OCR Model Architecture\n",
        "\n",
        "In this section, we define and describe the architecture of the Optical Character Recognition (OCR) model for captcha image recognition. The code presented below outlines the various components of the model and how they are configured.\n",
        "\n",
        "### Model Architecture\n",
        "\n",
        "The OCR model consists of the following components:\n",
        "\n",
        "#### Input Layer\n",
        "- Input Shape: `(image_height, image_width, 1)`\n",
        "- Purpose: The input layer defines the shape of the input data, which corresponds to grayscale captcha images. Each image is `image_height` pixels in height and `image_width` pixels in width.\n",
        "\n",
        "#### Standardization Layer\n",
        "- Purpose: This layer rescales pixel values to be within the [0, 1] range. It's common practice to standardize input data to facilitate model training.\n",
        "\n",
        "#### Transposition Layer\n",
        "- Purpose: The `Lambda` layer transposes the input tensor to the shape `(None, image_width, image_height, 1)` to ensure that the time dimension aligns with the width of the image.\n",
        "\n",
        "#### Convolutional Layers\n",
        "- Configuration: Multiple pairs of Conv2D layers with ReLU activation and Batch Normalization are applied. MaxPooling2D layers with appropriate strides are used for downsampling.\n",
        "- Purpose: Convolutional layers extract features from the input images. Batch Normalization helps stabilize training, and MaxPooling2D reduces spatial dimensions.\n",
        "\n",
        "#### Reshape Layer\n",
        "- Purpose: This layer reshapes the tensor to `(image_width // 8, (image_height // 4) * 256)`, which is important for the subsequent recurrent layers. It essentially \"flattens\" the spatial dimensions while retaining the time dimension.\n",
        "\n",
        "#### Dense Layer\n",
        "- Configuration: A Dense layer with ReLU activation is applied.\n",
        "- Purpose: The Dense layer processes the flattened features extracted by the convolutional layers.\n",
        "\n",
        "#### Recurrent Layers (Bidirectional LSTM)\n",
        "- Configuration: Two Bidirectional LSTM layers with dropout are applied. These layers are recurrent and process sequential data.\n",
        "- Purpose: Bidirectional LSTMs capture temporal dependencies in the data, making them suitable for recognizing characters in captcha images. They process data in both forward and backward directions, improving the model's ability to learn from sequences.\n",
        "\n",
        "#### Output Layer (CTC)\n",
        "- Configuration: A Dense layer with a softmax activation function is applied. The number of units in this layer corresponds to the number of unique characters in the dataset plus one (for the CTC blank label).\n",
        "- Purpose: The output layer produces character predictions. The CTC (Connectionist Temporal Classification) loss is used to align predicted characters with ground truth labels. The `ctc_loss` function is defined to calculate the CTC loss for each element in a batch. It takes as input the true labels `(samples, max_string_length)`, predicted sequences `(samples, time_steps, num_categories)`, input sequence lengths `(samples, 1)`, and label sequence lengths `(samples, 1)`. The function computes the CTC loss for each element in the batch and returns a tensor with the CTC loss for each element.\n",
        "\n",
        "### Model Compilation\n",
        "\n",
        "The model is compiled using the Adam optimizer and a custom CTC loss function. CTC loss measures the dissimilarity between predicted sequences and ground truth sequences, considering variable alignment.\n",
        "\n",
        "### Summary\n",
        "\n",
        "The model summary, which provides a concise overview of the model architecture, is displayed at the end of the code cell. It includes details about layer types, output shapes, and the number of parameters.\n",
        "\n",
        "This OCR model is designed for recognizing odometers from car dashboard images.\n"
      ]
    },
    {
      "cell_type": "code",
      "execution_count": null,
      "metadata": {
        "colab": {
          "base_uri": "https://localhost:8080/"
        },
        "id": "P03RbKnnbRlX",
        "outputId": "fdd9ecd1-89be-4358-c301-27b88ef42d56"
      },
      "outputs": [
        {
          "name": "stdout",
          "output_type": "stream",
          "text": [
            "Model: \"OCR_model\"\n",
            "_________________________________________________________________\n",
            " Layer (type)                Output Shape              Param #   \n",
            "=================================================================\n",
            " input_image (InputLayer)    [(None, 50, 200, 1)]      0         \n",
            "                                                                 \n",
            " rescaling (Rescaling)       (None, 50, 200, 1)        0         \n",
            "                                                                 \n",
            " transpose (Lambda)          (None, 200, 50, 1)        0         \n",
            "                                                                 \n",
            " conv2d (Conv2D)             (None, 200, 50, 64)       640       \n",
            "                                                                 \n",
            " batch_normalization (Batch  (None, 200, 50, 64)       256       \n",
            " Normalization)                                                  \n",
            "                                                                 \n",
            " pool1 (MaxPooling2D)        (None, 100, 25, 64)       0         \n",
            "                                                                 \n",
            " conv2d_1 (Conv2D)           (None, 100, 25, 128)      73856     \n",
            "                                                                 \n",
            " batch_normalization_1 (Bat  (None, 100, 25, 128)      512       \n",
            " chNormalization)                                                \n",
            "                                                                 \n",
            " pool2 (MaxPooling2D)        (None, 50, 12, 128)       0         \n",
            "                                                                 \n",
            " conv2d_2 (Conv2D)           (None, 50, 12, 256)       295168    \n",
            "                                                                 \n",
            " batch_normalization_2 (Bat  (None, 50, 12, 256)       1024      \n",
            " chNormalization)                                                \n",
            "                                                                 \n",
            " pool3 (MaxPooling2D)        (None, 25, 12, 256)       0         \n",
            "                                                                 \n",
            " reshape (Reshape)           (None, 25, 3072)          0         \n",
            "                                                                 \n",
            " dense (Dense)               (None, 25, 128)           393344    \n",
            "                                                                 \n",
            " dropout (Dropout)           (None, 25, 128)           0         \n",
            "                                                                 \n",
            " bidirectional (Bidirection  (None, 25, 256)           263168    \n",
            " al)                                                             \n",
            "                                                                 \n",
            " dense_1 (Dense)             (None, 25, 12)            3084      \n",
            "                                                                 \n",
            "=================================================================\n",
            "Total params: 1031052 (3.93 MB)\n",
            "Trainable params: 1030156 (3.93 MB)\n",
            "Non-trainable params: 896 (3.50 KB)\n",
            "_________________________________________________________________\n"
          ]
        }
      ],
      "source": [
        "from keras.layers import Input, Conv2D, MaxPooling2D, BatchNormalization, Reshape, Bidirectional, LSTM, Dense, Lambda, Rescaling, Dropout\n",
        "from keras.models import Model\n",
        "from keras.optimizers import Adam\n",
        "from keras.backend import ctc_batch_cost, ctc_decode\n",
        "\n",
        "# Define the input layer\n",
        "input_data = Input(shape=(image_height, image_width, 1), name='input_image')\n",
        "\n",
        "# Standardize values to be in the [0, 1] range\n",
        "x = Rescaling(1./255)(input_data)\n",
        "\n",
        "# Transpose the tensor to shape (None, image_width, image_height, 1)\n",
        "x = Lambda(lambda x: tf.transpose(x, perm=[0, 2, 1, 3]), name=\"transpose\")(x)\n",
        "\n",
        "# Convolutional layers\n",
        "x = Conv2D(64, (3, 3), activation=\"relu\", kernel_initializer=tf.keras.initializers.he_normal(), padding=\"same\")(x)\n",
        "x = BatchNormalization()(x)\n",
        "x = MaxPooling2D((2, 2), name=\"pool1\")(x)\n",
        "\n",
        "x = Conv2D(128, (3, 3), activation=\"relu\", kernel_initializer=tf.keras.initializers.he_normal(), padding=\"same\")(x)\n",
        "x = BatchNormalization()(x)\n",
        "x = MaxPooling2D((2, 2), name=\"pool2\")(x)\n",
        "\n",
        "x = Conv2D(256, (3, 3), activation=\"relu\", kernel_initializer=tf.keras.initializers.he_normal(), padding=\"same\")(x)\n",
        "x = BatchNormalization()(x)\n",
        "x = MaxPooling2D((2, 1), name=\"pool3\")(x) # Pooling over time dimension\n",
        "\n",
        "x = Reshape(target_shape=(image_width // 8, (image_height // 4) * 256), name=\"reshape\")(x)\n",
        "x = Dense(128, activation=\"relu\", kernel_initializer=tf.keras.initializers.he_normal())(x)\n",
        "x = Dropout(0.2)(x)\n",
        "\n",
        "# Recurrent layers (Bidirectional LSTM)\n",
        "x = Bidirectional(LSTM(128, return_sequences=True, dropout=0.25))(x)\n",
        "\n",
        "# Output layer (CTC)\n",
        "output = Dense(len(all_possible_characters) + 1, activation='softmax')(x)\n",
        "\n",
        "# Create the model\n",
        "model = Model(inputs=input_data, outputs=output, name=\"OCR_model\")\n",
        "\n",
        "model.summary()"
      ]
    },
    {
      "cell_type": "code",
      "execution_count": null,
      "metadata": {
        "id": "2HE1B4-wlQeL"
      },
      "outputs": [],
      "source": [
        "def ctc_loss(y_true, y_pred):\n",
        "    batch_size = tf.shape(y_true)[0]\n",
        "    input_length = tf.fill([batch_size, 1], tf.shape(y_pred)[1])\n",
        "    label_length = tf.fill([batch_size, 1], 6)\n",
        "    loss = ctc_batch_cost(y_true, y_pred, input_length, label_length)\n",
        "    return loss"
      ]
    },
    {
      "cell_type": "code",
      "execution_count": null,
      "metadata": {
        "id": "ANAq-JIllN6F"
      },
      "outputs": [],
      "source": [
        "model.compile(optimizer=Adam(learning_rate=0.00003), loss=ctc_loss)"
      ]
    },
    {
      "cell_type": "markdown",
      "metadata": {
        "id": "tQfPiZvcpjfT"
      },
      "source": [
        "## Training the Model\n",
        "\n",
        "Now, let's train our OCR model. We'll run training for a maximum of 20 epochs. The training progress will be monitored based on the val loss, The best weights from training will be restored.\n",
        "\n"
      ]
    },
    {
      "cell_type": "code",
      "execution_count": null,
      "metadata": {
        "colab": {
          "base_uri": "https://localhost:8080/"
        },
        "id": "8zsLGhwKkBzG",
        "outputId": "581d00d9-c11d-4cae-a374-a5ab29f9f5cb"
      },
      "outputs": [
        {
          "name": "stdout",
          "output_type": "stream",
          "text": [
            "Epoch 1/50\n",
            "7/7 [==============================] - ETA: 0s - loss: 43.0383\n",
            "Epoch 1: val_loss improved from inf to 41.65394, saving model to best_model.h5\n",
            "7/7 [==============================] - 15s 383ms/step - loss: 43.0383 - val_loss: 41.6539\n"
          ]
        },
        {
          "name": "stderr",
          "output_type": "stream",
          "text": [
            "/usr/local/lib/python3.10/dist-packages/keras/src/engine/training.py:3103: UserWarning: You are saving your model as an HDF5 file via `model.save()`. This file format is considered legacy. We recommend using instead the native Keras format, e.g. `model.save('my_model.keras')`.\n",
            "  saving_api.save_model(\n"
          ]
        },
        {
          "name": "stdout",
          "output_type": "stream",
          "text": [
            "Epoch 2/50\n",
            "5/7 [====================>.........] - ETA: 0s - loss: 36.5164\n",
            "Epoch 2: val_loss improved from 41.65394 to 36.19349, saving model to best_model.h5\n",
            "7/7 [==============================] - 0s 44ms/step - loss: 35.7640 - val_loss: 36.1935\n",
            "Epoch 3/50\n",
            "3/7 [===========>..................] - ETA: 0s - loss: 29.4325"
          ]
        },
        {
          "name": "stderr",
          "output_type": "stream",
          "text": [
            "/usr/local/lib/python3.10/dist-packages/keras/src/engine/training.py:3103: UserWarning: You are saving your model as an HDF5 file via `model.save()`. This file format is considered legacy. We recommend using instead the native Keras format, e.g. `model.save('my_model.keras')`.\n",
            "  saving_api.save_model(\n"
          ]
        },
        {
          "name": "stdout",
          "output_type": "stream",
          "text": [
            "\b\b\b\b\b\b\b\b\b\b\b\b\b\b\b\b\b\b\b\b\b\b\b\b\b\b\b\b\b\b\b\b\b\b\b\b\b\b\b\b\b\b\b\b\b\b\b\b\b\b\b\b\b\b\b\b\b\b\b\b\b\b\r5/7 [====================>.........] - ETA: 0s - loss: 28.4470\n",
            "Epoch 3: val_loss improved from 36.19349 to 30.84215, saving model to best_model.h5\n",
            "7/7 [==============================] - 0s 43ms/step - loss: 27.8272 - val_loss: 30.8422\n",
            "Epoch 4/50\n",
            "6/7 [========================>.....] - ETA: 0s - loss: 22.5021\n",
            "Epoch 4: val_loss improved from 30.84215 to 27.06994, saving model to best_model.h5\n",
            "7/7 [==============================] - 0s 66ms/step - loss: 22.3950 - val_loss: 27.0699\n",
            "Epoch 5/50\n",
            "6/7 [========================>.....] - ETA: 0s - loss: 19.1463\n",
            "Epoch 5: val_loss improved from 27.06994 to 24.66479, saving model to best_model.h5\n",
            "7/7 [==============================] - 2s 248ms/step - loss: 19.0633 - val_loss: 24.6648\n"
          ]
        },
        {
          "name": "stderr",
          "output_type": "stream",
          "text": [
            "/usr/local/lib/python3.10/dist-packages/keras/src/engine/training.py:3103: UserWarning: You are saving your model as an HDF5 file via `model.save()`. This file format is considered legacy. We recommend using instead the native Keras format, e.g. `model.save('my_model.keras')`.\n",
            "  saving_api.save_model(\n"
          ]
        },
        {
          "name": "stdout",
          "output_type": "stream",
          "text": [
            "Epoch 6/50\n",
            "6/7 [========================>.....] - ETA: 0s - loss: 17.5316\n",
            "Epoch 6: val_loss improved from 24.66479 to 23.28224, saving model to best_model.h5\n",
            "7/7 [==============================] - 2s 177ms/step - loss: 17.4688 - val_loss: 23.2822\n"
          ]
        },
        {
          "name": "stderr",
          "output_type": "stream",
          "text": [
            "/usr/local/lib/python3.10/dist-packages/keras/src/engine/training.py:3103: UserWarning: You are saving your model as an HDF5 file via `model.save()`. This file format is considered legacy. We recommend using instead the native Keras format, e.g. `model.save('my_model.keras')`.\n",
            "  saving_api.save_model(\n"
          ]
        },
        {
          "name": "stdout",
          "output_type": "stream",
          "text": [
            "Epoch 7/50\n",
            "6/7 [========================>.....] - ETA: 0s - loss: 16.6308\n",
            "Epoch 7: val_loss improved from 23.28224 to 22.54430, saving model to best_model.h5\n",
            "7/7 [==============================] - 1s 149ms/step - loss: 16.5774 - val_loss: 22.5443\n",
            "Epoch 8/50\n",
            "3/7 [===========>..................] - ETA: 0s - loss: 16.4312"
          ]
        },
        {
          "name": "stderr",
          "output_type": "stream",
          "text": [
            "/usr/local/lib/python3.10/dist-packages/keras/src/engine/training.py:3103: UserWarning: You are saving your model as an HDF5 file via `model.save()`. This file format is considered legacy. We recommend using instead the native Keras format, e.g. `model.save('my_model.keras')`.\n",
            "  saving_api.save_model(\n"
          ]
        },
        {
          "name": "stdout",
          "output_type": "stream",
          "text": [
            "6/7 [========================>.....] - ETA: 0s - loss: 16.3506\n",
            "Epoch 8: val_loss improved from 22.54430 to 22.20777, saving model to best_model.h5\n",
            "7/7 [==============================] - 1s 157ms/step - loss: 16.3039 - val_loss: 22.2078\n",
            "Epoch 9/50\n",
            "3/7 [===========>..................] - ETA: 0s - loss: 16.3290"
          ]
        },
        {
          "name": "stderr",
          "output_type": "stream",
          "text": [
            "/usr/local/lib/python3.10/dist-packages/keras/src/engine/training.py:3103: UserWarning: You are saving your model as an HDF5 file via `model.save()`. This file format is considered legacy. We recommend using instead the native Keras format, e.g. `model.save('my_model.keras')`.\n",
            "  saving_api.save_model(\n"
          ]
        },
        {
          "name": "stdout",
          "output_type": "stream",
          "text": [
            "6/7 [========================>.....] - ETA: 0s - loss: 16.2069\n",
            "Epoch 9: val_loss improved from 22.20777 to 22.12345, saving model to best_model.h5\n",
            "7/7 [==============================] - 1s 154ms/step - loss: 16.1414 - val_loss: 22.1235\n",
            "Epoch 10/50\n",
            "3/7 [===========>..................] - ETA: 0s - loss: 16.2686"
          ]
        },
        {
          "name": "stderr",
          "output_type": "stream",
          "text": [
            "/usr/local/lib/python3.10/dist-packages/keras/src/engine/training.py:3103: UserWarning: You are saving your model as an HDF5 file via `model.save()`. This file format is considered legacy. We recommend using instead the native Keras format, e.g. `model.save('my_model.keras')`.\n",
            "  saving_api.save_model(\n"
          ]
        },
        {
          "name": "stdout",
          "output_type": "stream",
          "text": [
            "6/7 [========================>.....] - ETA: 0s - loss: 16.1080\n",
            "Epoch 10: val_loss did not improve from 22.12345\n",
            "7/7 [==============================] - 1s 151ms/step - loss: 16.0334 - val_loss: 22.2099\n",
            "Epoch 11/50\n",
            "5/7 [====================>.........] - ETA: 0s - loss: 15.9603\n",
            "Epoch 11: val_loss did not improve from 22.12345\n",
            "7/7 [==============================] - 1s 149ms/step - loss: 15.8581 - val_loss: 22.3872\n",
            "Epoch 12/50\n",
            "5/7 [====================>.........] - ETA: 0s - loss: 15.8533\n",
            "Epoch 12: val_loss did not improve from 22.12345\n",
            "7/7 [==============================] - 0s 30ms/step - loss: 15.7340 - val_loss: 22.5621\n",
            "Epoch 13/50\n",
            "5/7 [====================>.........] - ETA: 0s - loss: 15.7186\n",
            "Epoch 13: val_loss did not improve from 22.12345\n",
            "7/7 [==============================] - 1s 30ms/step - loss: 15.6016 - val_loss: 22.6995\n",
            "Epoch 14/50\n",
            "6/7 [========================>.....] - ETA: 0s - loss: 15.5192\n",
            "Epoch 14: val_loss did not improve from 22.12345\n",
            "7/7 [==============================] - 1s 147ms/step - loss: 15.4519 - val_loss: 22.7377\n",
            "Epoch 15/50\n",
            "5/7 [====================>.........] - ETA: 0s - loss: 15.4873\n",
            "Epoch 15: val_loss did not improve from 22.12345\n",
            "7/7 [==============================] - 1s 140ms/step - loss: 15.3838 - val_loss: 22.6785\n",
            "Epoch 16/50\n",
            "5/7 [====================>.........] - ETA: 0s - loss: 15.3965\n",
            "Epoch 16: val_loss did not improve from 22.12345\n",
            "7/7 [==============================] - 0s 30ms/step - loss: 15.2877 - val_loss: 22.5172\n",
            "Epoch 17/50\n",
            "6/7 [========================>.....] - ETA: 0s - loss: 15.2737\n",
            "Epoch 17: val_loss did not improve from 22.12345\n",
            "7/7 [==============================] - 1s 157ms/step - loss: 15.2031 - val_loss: 22.2487\n",
            "Epoch 18/50\n",
            "7/7 [==============================] - ETA: 0s - loss: 15.0842\n",
            "Epoch 18: val_loss improved from 22.12345 to 21.95565, saving model to best_model.h5\n"
          ]
        },
        {
          "name": "stderr",
          "output_type": "stream",
          "text": [
            "/usr/local/lib/python3.10/dist-packages/keras/src/engine/training.py:3103: UserWarning: You are saving your model as an HDF5 file via `model.save()`. This file format is considered legacy. We recommend using instead the native Keras format, e.g. `model.save('my_model.keras')`.\n",
            "  saving_api.save_model(\n"
          ]
        },
        {
          "name": "stdout",
          "output_type": "stream",
          "text": [
            "\b\b\b\b\b\b\b\b\b\b\b\b\b\b\b\b\b\b\b\b\b\b\b\b\b\b\b\b\b\b\b\b\b\b\b\b\b\b\b\b\b\b\b\b\b\b\b\b\b\b\b\b\b\b\b\b\b\b\b\b\b\b\r7/7 [==============================] - 1s 67ms/step - loss: 15.0842 - val_loss: 21.9557\n",
            "Epoch 19/50\n",
            "7/7 [==============================] - ETA: 0s - loss: 14.9613\n",
            "Epoch 19: val_loss improved from 21.95565 to 21.65216, saving model to best_model.h5\n",
            "7/7 [==============================] - 1s 176ms/step - loss: 14.9613 - val_loss: 21.6522\n",
            "Epoch 20/50\n",
            "3/7 [===========>..................] - ETA: 0s - loss: 15.2432"
          ]
        },
        {
          "name": "stderr",
          "output_type": "stream",
          "text": [
            "/usr/local/lib/python3.10/dist-packages/keras/src/engine/training.py:3103: UserWarning: You are saving your model as an HDF5 file via `model.save()`. This file format is considered legacy. We recommend using instead the native Keras format, e.g. `model.save('my_model.keras')`.\n",
            "  saving_api.save_model(\n"
          ]
        },
        {
          "name": "stdout",
          "output_type": "stream",
          "text": [
            "6/7 [========================>.....] - ETA: 0s - loss: 15.0351\n",
            "Epoch 20: val_loss improved from 21.65216 to 21.40143, saving model to best_model.h5\n",
            "7/7 [==============================] - 1s 163ms/step - loss: 14.9558 - val_loss: 21.4014\n"
          ]
        },
        {
          "name": "stderr",
          "output_type": "stream",
          "text": [
            "/usr/local/lib/python3.10/dist-packages/keras/src/engine/training.py:3103: UserWarning: You are saving your model as an HDF5 file via `model.save()`. This file format is considered legacy. We recommend using instead the native Keras format, e.g. `model.save('my_model.keras')`.\n",
            "  saving_api.save_model(\n"
          ]
        },
        {
          "name": "stdout",
          "output_type": "stream",
          "text": [
            "Epoch 21/50\n",
            "5/7 [====================>.........] - ETA: 0s - loss: 15.0112\n",
            "Epoch 21: val_loss improved from 21.40143 to 21.11103, saving model to best_model.h5\n",
            "7/7 [==============================] - 0s 46ms/step - loss: 14.8968 - val_loss: 21.1110\n",
            "Epoch 22/50\n",
            "5/7 [====================>.........] - ETA: 0s - loss: 14.9085\n",
            "Epoch 22: val_loss improved from 21.11103 to 20.83630, saving model to best_model.h5\n",
            "7/7 [==============================] - 0s 45ms/step - loss: 14.8073 - val_loss: 20.8363\n",
            "Epoch 23/50\n",
            "7/7 [==============================] - ETA: 0s - loss: 14.7582\n",
            "Epoch 23: val_loss improved from 20.83630 to 20.56350, saving model to best_model.h5\n",
            "7/7 [==============================] - 1s 210ms/step - loss: 14.7582 - val_loss: 20.5635\n"
          ]
        },
        {
          "name": "stderr",
          "output_type": "stream",
          "text": [
            "/usr/local/lib/python3.10/dist-packages/keras/src/engine/training.py:3103: UserWarning: You are saving your model as an HDF5 file via `model.save()`. This file format is considered legacy. We recommend using instead the native Keras format, e.g. `model.save('my_model.keras')`.\n",
            "  saving_api.save_model(\n"
          ]
        },
        {
          "name": "stdout",
          "output_type": "stream",
          "text": [
            "Epoch 24/50\n",
            "5/7 [====================>.........] - ETA: 0s - loss: 14.7595\n",
            "Epoch 24: val_loss improved from 20.56350 to 20.27352, saving model to best_model.h5\n"
          ]
        },
        {
          "name": "stderr",
          "output_type": "stream",
          "text": [
            "/usr/local/lib/python3.10/dist-packages/keras/src/engine/training.py:3103: UserWarning: You are saving your model as an HDF5 file via `model.save()`. This file format is considered legacy. We recommend using instead the native Keras format, e.g. `model.save('my_model.keras')`.\n",
            "  saving_api.save_model(\n"
          ]
        },
        {
          "name": "stdout",
          "output_type": "stream",
          "text": [
            "\b\b\b\b\b\b\b\b\b\b\b\b\b\b\b\b\b\b\b\b\b\b\b\b\b\b\b\b\b\b\b\b\b\b\b\b\b\b\b\b\b\b\b\b\b\b\b\b\b\b\b\b\b\b\b\b\b\b\b\b\b\b\r7/7 [==============================] - 0s 48ms/step - loss: 14.6482 - val_loss: 20.2735\n",
            "Epoch 25/50\n",
            "7/7 [==============================] - ETA: 0s - loss: 14.5868\n",
            "Epoch 25: val_loss improved from 20.27352 to 20.00736, saving model to best_model.h5\n",
            "7/7 [==============================] - 0s 50ms/step - loss: 14.5868 - val_loss: 20.0074\n"
          ]
        },
        {
          "name": "stderr",
          "output_type": "stream",
          "text": [
            "/usr/local/lib/python3.10/dist-packages/keras/src/engine/training.py:3103: UserWarning: You are saving your model as an HDF5 file via `model.save()`. This file format is considered legacy. We recommend using instead the native Keras format, e.g. `model.save('my_model.keras')`.\n",
            "  saving_api.save_model(\n"
          ]
        },
        {
          "name": "stdout",
          "output_type": "stream",
          "text": [
            "Epoch 26/50\n",
            "5/7 [====================>.........] - ETA: 0s - loss: 14.7614\n",
            "Epoch 26: val_loss improved from 20.00736 to 19.71317, saving model to best_model.h5\n",
            "7/7 [==============================] - 0s 45ms/step - loss: 14.6336 - val_loss: 19.7132\n"
          ]
        },
        {
          "name": "stderr",
          "output_type": "stream",
          "text": [
            "/usr/local/lib/python3.10/dist-packages/keras/src/engine/training.py:3103: UserWarning: You are saving your model as an HDF5 file via `model.save()`. This file format is considered legacy. We recommend using instead the native Keras format, e.g. `model.save('my_model.keras')`.\n",
            "  saving_api.save_model(\n"
          ]
        },
        {
          "name": "stdout",
          "output_type": "stream",
          "text": [
            "Epoch 27/50\n",
            "5/7 [====================>.........] - ETA: 0s - loss: 14.5944\n",
            "Epoch 27: val_loss improved from 19.71317 to 19.41960, saving model to best_model.h5\n",
            "7/7 [==============================] - 0s 44ms/step - loss: 14.4866 - val_loss: 19.4196\n",
            "Epoch 28/50\n",
            "5/7 [====================>.........] - ETA: 0s - loss: 14.4861\n",
            "Epoch 28: val_loss improved from 19.41960 to 19.12001, saving model to best_model.h5\n",
            "7/7 [==============================] - 1s 155ms/step - loss: 14.3802 - val_loss: 19.1200\n",
            "Epoch 29/50\n",
            "3/7 [===========>..................] - ETA: 0s - loss: 14.6406"
          ]
        },
        {
          "name": "stderr",
          "output_type": "stream",
          "text": [
            "/usr/local/lib/python3.10/dist-packages/keras/src/engine/training.py:3103: UserWarning: You are saving your model as an HDF5 file via `model.save()`. This file format is considered legacy. We recommend using instead the native Keras format, e.g. `model.save('my_model.keras')`.\n",
            "  saving_api.save_model(\n"
          ]
        },
        {
          "name": "stdout",
          "output_type": "stream",
          "text": [
            "\b\b\b\b\b\b\b\b\b\b\b\b\b\b\b\b\b\b\b\b\b\b\b\b\b\b\b\b\b\b\b\b\b\b\b\b\b\b\b\b\b\b\b\b\b\b\b\b\b\b\b\b\b\b\b\b\b\b\b\b\b\b\r5/7 [====================>.........] - ETA: 0s - loss: 14.4510\n",
            "Epoch 29: val_loss improved from 19.12001 to 18.85439, saving model to best_model.h5\n",
            "7/7 [==============================] - 1s 160ms/step - loss: 14.3347 - val_loss: 18.8544\n",
            "Epoch 30/50\n",
            "3/7 [===========>..................] - ETA: 0s - loss: 14.6038"
          ]
        },
        {
          "name": "stderr",
          "output_type": "stream",
          "text": [
            "/usr/local/lib/python3.10/dist-packages/keras/src/engine/training.py:3103: UserWarning: You are saving your model as an HDF5 file via `model.save()`. This file format is considered legacy. We recommend using instead the native Keras format, e.g. `model.save('my_model.keras')`.\n",
            "  saving_api.save_model(\n"
          ]
        },
        {
          "name": "stdout",
          "output_type": "stream",
          "text": [
            "7/7 [==============================] - ETA: 0s - loss: 14.2835\n",
            "Epoch 30: val_loss improved from 18.85439 to 18.61056, saving model to best_model.h5\n",
            "7/7 [==============================] - 1s 173ms/step - loss: 14.2835 - val_loss: 18.6106\n",
            "Epoch 31/50\n",
            "1/7 [===>..........................] - ETA: 0s - loss: 14.6136"
          ]
        },
        {
          "name": "stderr",
          "output_type": "stream",
          "text": [
            "/usr/local/lib/python3.10/dist-packages/keras/src/engine/training.py:3103: UserWarning: You are saving your model as an HDF5 file via `model.save()`. This file format is considered legacy. We recommend using instead the native Keras format, e.g. `model.save('my_model.keras')`.\n",
            "  saving_api.save_model(\n"
          ]
        },
        {
          "name": "stdout",
          "output_type": "stream",
          "text": [
            "7/7 [==============================] - ETA: 0s - loss: 14.2186\n",
            "Epoch 31: val_loss improved from 18.61056 to 18.34728, saving model to best_model.h5\n",
            "7/7 [==============================] - 1s 170ms/step - loss: 14.2186 - val_loss: 18.3473\n",
            "Epoch 32/50\n",
            "1/7 [===>..........................] - ETA: 0s - loss: 14.4290"
          ]
        },
        {
          "name": "stderr",
          "output_type": "stream",
          "text": [
            "/usr/local/lib/python3.10/dist-packages/keras/src/engine/training.py:3103: UserWarning: You are saving your model as an HDF5 file via `model.save()`. This file format is considered legacy. We recommend using instead the native Keras format, e.g. `model.save('my_model.keras')`.\n",
            "  saving_api.save_model(\n"
          ]
        },
        {
          "name": "stdout",
          "output_type": "stream",
          "text": [
            "6/7 [========================>.....] - ETA: 0s - loss: 14.2802\n",
            "Epoch 32: val_loss improved from 18.34728 to 18.10010, saving model to best_model.h5\n",
            "7/7 [==============================] - 1s 176ms/step - loss: 14.1836 - val_loss: 18.1001\n"
          ]
        },
        {
          "name": "stderr",
          "output_type": "stream",
          "text": [
            "/usr/local/lib/python3.10/dist-packages/keras/src/engine/training.py:3103: UserWarning: You are saving your model as an HDF5 file via `model.save()`. This file format is considered legacy. We recommend using instead the native Keras format, e.g. `model.save('my_model.keras')`.\n",
            "  saving_api.save_model(\n"
          ]
        },
        {
          "name": "stdout",
          "output_type": "stream",
          "text": [
            "Epoch 33/50\n",
            "7/7 [==============================] - ETA: 0s - loss: 14.1506\n",
            "Epoch 33: val_loss improved from 18.10010 to 17.89788, saving model to best_model.h5\n",
            "7/7 [==============================] - 0s 50ms/step - loss: 14.1506 - val_loss: 17.8979\n",
            "Epoch 34/50\n",
            "6/7 [========================>.....] - ETA: 0s - loss: 14.2300\n",
            "Epoch 34: val_loss improved from 17.89788 to 17.68054, saving model to best_model.h5\n"
          ]
        },
        {
          "name": "stderr",
          "output_type": "stream",
          "text": [
            "/usr/local/lib/python3.10/dist-packages/keras/src/engine/training.py:3103: UserWarning: You are saving your model as an HDF5 file via `model.save()`. This file format is considered legacy. We recommend using instead the native Keras format, e.g. `model.save('my_model.keras')`.\n",
            "  saving_api.save_model(\n"
          ]
        },
        {
          "name": "stdout",
          "output_type": "stream",
          "text": [
            "\b\b\b\b\b\b\b\b\b\b\b\b\b\b\b\b\b\b\b\b\b\b\b\b\b\b\b\b\b\b\b\b\b\b\b\b\b\b\b\b\b\b\b\b\b\b\b\b\b\b\b\b\b\b\b\b\b\b\b\b\b\b\r7/7 [==============================] - 0s 78ms/step - loss: 14.1209 - val_loss: 17.6805\n",
            "Epoch 35/50\n",
            "5/7 [====================>.........] - ETA: 0s - loss: 14.1882\n",
            "Epoch 35: val_loss improved from 17.68054 to 17.46103, saving model to best_model.h5\n",
            "7/7 [==============================] - 0s 46ms/step - loss: 14.0538 - val_loss: 17.4610\n",
            "Epoch 36/50\n"
          ]
        },
        {
          "name": "stderr",
          "output_type": "stream",
          "text": [
            "/usr/local/lib/python3.10/dist-packages/keras/src/engine/training.py:3103: UserWarning: You are saving your model as an HDF5 file via `model.save()`. This file format is considered legacy. We recommend using instead the native Keras format, e.g. `model.save('my_model.keras')`.\n",
            "  saving_api.save_model(\n"
          ]
        },
        {
          "name": "stdout",
          "output_type": "stream",
          "text": [
            "5/7 [====================>.........] - ETA: 0s - loss: 14.1020\n",
            "Epoch 36: val_loss improved from 17.46103 to 17.27083, saving model to best_model.h5\n"
          ]
        },
        {
          "name": "stderr",
          "output_type": "stream",
          "text": [
            "/usr/local/lib/python3.10/dist-packages/keras/src/engine/training.py:3103: UserWarning: You are saving your model as an HDF5 file via `model.save()`. This file format is considered legacy. We recommend using instead the native Keras format, e.g. `model.save('my_model.keras')`.\n",
            "  saving_api.save_model(\n"
          ]
        },
        {
          "name": "stdout",
          "output_type": "stream",
          "text": [
            "\b\b\b\b\b\b\b\b\b\b\b\b\b\b\b\b\b\b\b\b\b\b\b\b\b\b\b\b\b\b\b\b\b\b\b\b\b\b\b\b\b\b\b\b\b\b\b\b\b\b\b\b\b\b\b\b\b\b\b\b\b\b\r7/7 [==============================] - 1s 44ms/step - loss: 13.9851 - val_loss: 17.2708\n",
            "Epoch 37/50\n",
            "5/7 [====================>.........] - ETA: 0s - loss: 14.0116\n",
            "Epoch 37: val_loss improved from 17.27083 to 17.09139, saving model to best_model.h5\n",
            "7/7 [==============================] - 0s 44ms/step - loss: 13.9157 - val_loss: 17.0914\n"
          ]
        },
        {
          "name": "stderr",
          "output_type": "stream",
          "text": [
            "/usr/local/lib/python3.10/dist-packages/keras/src/engine/training.py:3103: UserWarning: You are saving your model as an HDF5 file via `model.save()`. This file format is considered legacy. We recommend using instead the native Keras format, e.g. `model.save('my_model.keras')`.\n",
            "  saving_api.save_model(\n"
          ]
        },
        {
          "name": "stdout",
          "output_type": "stream",
          "text": [
            "Epoch 38/50\n",
            "5/7 [====================>.........] - ETA: 0s - loss: 14.0010\n",
            "Epoch 38: val_loss improved from 17.09139 to 16.88681, saving model to best_model.h5\n",
            "7/7 [==============================] - 0s 42ms/step - loss: 13.8841 - val_loss: 16.8868\n"
          ]
        },
        {
          "name": "stderr",
          "output_type": "stream",
          "text": [
            "/usr/local/lib/python3.10/dist-packages/keras/src/engine/training.py:3103: UserWarning: You are saving your model as an HDF5 file via `model.save()`. This file format is considered legacy. We recommend using instead the native Keras format, e.g. `model.save('my_model.keras')`.\n",
            "  saving_api.save_model(\n"
          ]
        },
        {
          "name": "stdout",
          "output_type": "stream",
          "text": [
            "Epoch 39/50\n",
            "5/7 [====================>.........] - ETA: 0s - loss: 13.9205\n",
            "Epoch 39: val_loss improved from 16.88681 to 16.69138, saving model to best_model.h5\n",
            "7/7 [==============================] - 0s 41ms/step - loss: 13.7943 - val_loss: 16.6914\n",
            "Epoch 40/50\n"
          ]
        },
        {
          "name": "stderr",
          "output_type": "stream",
          "text": [
            "/usr/local/lib/python3.10/dist-packages/keras/src/engine/training.py:3103: UserWarning: You are saving your model as an HDF5 file via `model.save()`. This file format is considered legacy. We recommend using instead the native Keras format, e.g. `model.save('my_model.keras')`.\n",
            "  saving_api.save_model(\n"
          ]
        },
        {
          "name": "stdout",
          "output_type": "stream",
          "text": [
            "5/7 [====================>.........] - ETA: 0s - loss: 13.9094\n",
            "Epoch 40: val_loss improved from 16.69138 to 16.55315, saving model to best_model.h5\n",
            "7/7 [==============================] - 1s 43ms/step - loss: 13.7653 - val_loss: 16.5532\n",
            "Epoch 41/50\n",
            "1/7 [===>..........................] - ETA: 0s - loss: 14.1473"
          ]
        },
        {
          "name": "stderr",
          "output_type": "stream",
          "text": [
            "/usr/local/lib/python3.10/dist-packages/keras/src/engine/training.py:3103: UserWarning: You are saving your model as an HDF5 file via `model.save()`. This file format is considered legacy. We recommend using instead the native Keras format, e.g. `model.save('my_model.keras')`.\n",
            "  saving_api.save_model(\n"
          ]
        },
        {
          "name": "stdout",
          "output_type": "stream",
          "text": [
            "6/7 [========================>.....] - ETA: 0s - loss: 13.8955\n",
            "Epoch 41: val_loss improved from 16.55315 to 16.43806, saving model to best_model.h5\n",
            "7/7 [==============================] - 1s 157ms/step - loss: 13.7830 - val_loss: 16.4381\n",
            "Epoch 42/50\n",
            "1/7 [===>..........................] - ETA: 0s - loss: 13.9255"
          ]
        },
        {
          "name": "stderr",
          "output_type": "stream",
          "text": [
            "/usr/local/lib/python3.10/dist-packages/keras/src/engine/training.py:3103: UserWarning: You are saving your model as an HDF5 file via `model.save()`. This file format is considered legacy. We recommend using instead the native Keras format, e.g. `model.save('my_model.keras')`.\n",
            "  saving_api.save_model(\n"
          ]
        },
        {
          "name": "stdout",
          "output_type": "stream",
          "text": [
            "6/7 [========================>.....] - ETA: 0s - loss: 13.7264\n",
            "Epoch 42: val_loss improved from 16.43806 to 16.30444, saving model to best_model.h5\n",
            "7/7 [==============================] - 1s 164ms/step - loss: 13.6094 - val_loss: 16.3044\n",
            "Epoch 43/50\n"
          ]
        },
        {
          "name": "stderr",
          "output_type": "stream",
          "text": [
            "/usr/local/lib/python3.10/dist-packages/keras/src/engine/training.py:3103: UserWarning: You are saving your model as an HDF5 file via `model.save()`. This file format is considered legacy. We recommend using instead the native Keras format, e.g. `model.save('my_model.keras')`.\n",
            "  saving_api.save_model(\n"
          ]
        },
        {
          "name": "stdout",
          "output_type": "stream",
          "text": [
            "5/7 [====================>.........] - ETA: 0s - loss: 13.7292\n",
            "Epoch 43: val_loss improved from 16.30444 to 16.16383, saving model to best_model.h5\n"
          ]
        },
        {
          "name": "stderr",
          "output_type": "stream",
          "text": [
            "/usr/local/lib/python3.10/dist-packages/keras/src/engine/training.py:3103: UserWarning: You are saving your model as an HDF5 file via `model.save()`. This file format is considered legacy. We recommend using instead the native Keras format, e.g. `model.save('my_model.keras')`.\n",
            "  saving_api.save_model(\n"
          ]
        },
        {
          "name": "stdout",
          "output_type": "stream",
          "text": [
            "\b\b\b\b\b\b\b\b\b\b\b\b\b\b\b\b\b\b\b\b\b\b\b\b\b\b\b\b\b\b\b\b\b\b\b\b\b\b\b\b\b\b\b\b\b\b\b\b\b\b\b\b\b\b\b\b\b\b\b\b\b\b\r7/7 [==============================] - 1s 51ms/step - loss: 13.6179 - val_loss: 16.1638\n",
            "Epoch 44/50\n",
            "7/7 [==============================] - ETA: 0s - loss: 13.5829\n",
            "Epoch 44: val_loss improved from 16.16383 to 16.05001, saving model to best_model.h5\n",
            "7/7 [==============================] - 1s 186ms/step - loss: 13.5829 - val_loss: 16.0500\n",
            "Epoch 45/50\n",
            "1/7 [===>..........................] - ETA: 0s - loss: 14.0261"
          ]
        },
        {
          "name": "stderr",
          "output_type": "stream",
          "text": [
            "/usr/local/lib/python3.10/dist-packages/keras/src/engine/training.py:3103: UserWarning: You are saving your model as an HDF5 file via `model.save()`. This file format is considered legacy. We recommend using instead the native Keras format, e.g. `model.save('my_model.keras')`.\n",
            "  saving_api.save_model(\n"
          ]
        },
        {
          "name": "stdout",
          "output_type": "stream",
          "text": [
            "6/7 [========================>.....] - ETA: 0s - loss: 13.7135\n",
            "Epoch 45: val_loss improved from 16.05001 to 15.95282, saving model to best_model.h5\n",
            "7/7 [==============================] - 1s 166ms/step - loss: 13.5853 - val_loss: 15.9528\n",
            "Epoch 46/50\n",
            "1/7 [===>..........................] - ETA: 0s - loss: 14.0153"
          ]
        },
        {
          "name": "stderr",
          "output_type": "stream",
          "text": [
            "/usr/local/lib/python3.10/dist-packages/keras/src/engine/training.py:3103: UserWarning: You are saving your model as an HDF5 file via `model.save()`. This file format is considered legacy. We recommend using instead the native Keras format, e.g. `model.save('my_model.keras')`.\n",
            "  saving_api.save_model(\n"
          ]
        },
        {
          "name": "stdout",
          "output_type": "stream",
          "text": [
            "6/7 [========================>.....] - ETA: 0s - loss: 13.6565\n",
            "Epoch 46: val_loss improved from 15.95282 to 15.85486, saving model to best_model.h5\n",
            "7/7 [==============================] - 1s 159ms/step - loss: 13.5318 - val_loss: 15.8549\n"
          ]
        },
        {
          "name": "stderr",
          "output_type": "stream",
          "text": [
            "/usr/local/lib/python3.10/dist-packages/keras/src/engine/training.py:3103: UserWarning: You are saving your model as an HDF5 file via `model.save()`. This file format is considered legacy. We recommend using instead the native Keras format, e.g. `model.save('my_model.keras')`.\n",
            "  saving_api.save_model(\n"
          ]
        },
        {
          "name": "stdout",
          "output_type": "stream",
          "text": [
            "Epoch 47/50\n",
            "7/7 [==============================] - ETA: 0s - loss: 13.3607\n",
            "Epoch 47: val_loss improved from 15.85486 to 15.75992, saving model to best_model.h5\n"
          ]
        },
        {
          "name": "stderr",
          "output_type": "stream",
          "text": [
            "/usr/local/lib/python3.10/dist-packages/keras/src/engine/training.py:3103: UserWarning: You are saving your model as an HDF5 file via `model.save()`. This file format is considered legacy. We recommend using instead the native Keras format, e.g. `model.save('my_model.keras')`.\n",
            "  saving_api.save_model(\n"
          ]
        },
        {
          "name": "stdout",
          "output_type": "stream",
          "text": [
            "\b\b\b\b\b\b\b\b\b\b\b\b\b\b\b\b\b\b\b\b\b\b\b\b\b\b\b\b\b\b\b\b\b\b\b\b\b\b\b\b\b\b\b\b\b\b\b\b\b\b\b\b\b\b\b\b\b\b\b\b\b\b\r7/7 [==============================] - 1s 50ms/step - loss: 13.3607 - val_loss: 15.7599\n",
            "Epoch 48/50\n",
            "5/7 [====================>.........] - ETA: 0s - loss: 13.4618\n",
            "Epoch 48: val_loss improved from 15.75992 to 15.66044, saving model to best_model.h5\n"
          ]
        },
        {
          "name": "stderr",
          "output_type": "stream",
          "text": [
            "/usr/local/lib/python3.10/dist-packages/keras/src/engine/training.py:3103: UserWarning: You are saving your model as an HDF5 file via `model.save()`. This file format is considered legacy. We recommend using instead the native Keras format, e.g. `model.save('my_model.keras')`.\n",
            "  saving_api.save_model(\n"
          ]
        },
        {
          "name": "stdout",
          "output_type": "stream",
          "text": [
            "\b\b\b\b\b\b\b\b\b\b\b\b\b\b\b\b\b\b\b\b\b\b\b\b\b\b\b\b\b\b\b\b\b\b\b\b\b\b\b\b\b\b\b\b\b\b\b\b\b\b\b\b\b\b\b\b\b\b\b\b\b\b\r7/7 [==============================] - 0s 48ms/step - loss: 13.3056 - val_loss: 15.6604\n",
            "Epoch 49/50\n",
            "5/7 [====================>.........] - ETA: 0s - loss: 13.4479\n",
            "Epoch 49: val_loss improved from 15.66044 to 15.57703, saving model to best_model.h5\n"
          ]
        },
        {
          "name": "stderr",
          "output_type": "stream",
          "text": [
            "/usr/local/lib/python3.10/dist-packages/keras/src/engine/training.py:3103: UserWarning: You are saving your model as an HDF5 file via `model.save()`. This file format is considered legacy. We recommend using instead the native Keras format, e.g. `model.save('my_model.keras')`.\n",
            "  saving_api.save_model(\n"
          ]
        },
        {
          "name": "stdout",
          "output_type": "stream",
          "text": [
            "\b\b\b\b\b\b\b\b\b\b\b\b\b\b\b\b\b\b\b\b\b\b\b\b\b\b\b\b\b\b\b\b\b\b\b\b\b\b\b\b\b\b\b\b\b\b\b\b\b\b\b\b\b\b\b\b\b\b\b\b\b\b\r7/7 [==============================] - 0s 46ms/step - loss: 13.3060 - val_loss: 15.5770\n",
            "Epoch 50/50\n",
            "5/7 [====================>.........] - ETA: 0s - loss: 13.4062\n",
            "Epoch 50: val_loss improved from 15.57703 to 15.50180, saving model to best_model.h5\n"
          ]
        },
        {
          "name": "stderr",
          "output_type": "stream",
          "text": [
            "/usr/local/lib/python3.10/dist-packages/keras/src/engine/training.py:3103: UserWarning: You are saving your model as an HDF5 file via `model.save()`. This file format is considered legacy. We recommend using instead the native Keras format, e.g. `model.save('my_model.keras')`.\n",
            "  saving_api.save_model(\n"
          ]
        },
        {
          "name": "stdout",
          "output_type": "stream",
          "text": [
            "\b\b\b\b\b\b\b\b\b\b\b\b\b\b\b\b\b\b\b\b\b\b\b\b\b\b\b\b\b\b\b\b\b\b\b\b\b\b\b\b\b\b\b\b\b\b\b\b\b\b\b\b\b\b\b\b\b\b\b\b\b\b\r7/7 [==============================] - 0s 47ms/step - loss: 13.2675 - val_loss: 15.5018\n"
          ]
        }
      ],
      "source": [
        "from keras.callbacks import ModelCheckpoint\n",
        "\n",
        "num_epochs = 50\n",
        "\n",
        "checkpoint_callback = ModelCheckpoint(\n",
        "    filepath='best_model.h5',  # Path to save the model file\n",
        "    monitor='val_loss',  # Metric to monitor\n",
        "    save_best_only=True,  # Only save the best weights\n",
        "    verbose=1  # Verbosity mode, 1 for progress messages\n",
        ")\n",
        "\n",
        "history = model.fit(\n",
        "    train_dataset,\n",
        "    epochs=num_epochs,\n",
        "    validation_data=val_dataset,\n",
        "    callbacks=checkpoint_callback\n",
        ")"
      ]
    },
    {
      "cell_type": "markdown",
      "metadata": {
        "id": "WPcr8Ibgpwpz"
      },
      "source": [
        "## Analyzing Training History\n",
        "\n",
        "In this section, we analyze the training history to identify the epoch with the lowest validation loss, which often corresponds to the best model performance. We also visualize the training and validation loss over epochs to understand how the model's performance evolved during training.\n"
      ]
    },
    {
      "cell_type": "code",
      "execution_count": null,
      "metadata": {
        "colab": {
          "base_uri": "https://localhost:8080/",
          "height": 607
        },
        "id": "ydE5ucuLecTu",
        "outputId": "cd2aba4b-e14b-462a-d99d-9fb56a5a4483"
      },
      "outputs": [
        {
          "data": {
            "image/png": "[encoded data removed]",
            "text/plain": [
              "<Figure size 900x600 with 1 Axes>"
            ]
          },
          "metadata": {},
          "output_type": "display_data"
        }
      ],
      "source": [
        "# Find the epoch with the lowest validation loss\n",
        "best_epoch = history.history['val_loss'].index(min(history.history['val_loss']))\n",
        "\n",
        "\n",
        "# Plot training history without accuracy\n",
        "def plot_training_history(history, best_epoch):\n",
        "    plt.figure(figsize=(9, 6))\n",
        "\n",
        "    # Plot training & validation loss values\n",
        "    plt.plot(history.history['loss'], label='Training Loss')\n",
        "    plt.plot(history.history['val_loss'], label='Validation Loss')\n",
        "    plt.title('Model Loss')\n",
        "    plt.xlabel('Epoch')\n",
        "    plt.ylabel('Loss')\n",
        "    plt.legend()\n",
        "\n",
        "    # Display the lowest validation loss and the epoch at which it occurred\n",
        "    min_val_loss = min(history.history['val_loss'])\n",
        "    plt.annotate(\n",
        "        f'Lowest Validation Loss: {min_val_loss:.4f}\\nEpoch: {best_epoch + 1}',\n",
        "        xy=(best_epoch, min_val_loss),\n",
        "        xytext=(best_epoch - 3, min_val_loss + 0.1),  # Adjust text position\n",
        "        arrowprops=dict(facecolor='black', arrowstyle='->')\n",
        "    )\n",
        "\n",
        "    plt.tight_layout()\n",
        "    plt.show()\n",
        "\n",
        "\n",
        "plot_training_history(history, best_epoch)"
      ]
    }
  ],
  "metadata": {
    "accelerator": "GPU",
    "colab": {
      "gpuType": "T4",
      "provenance": []
    },
    "kernelspec": {
      "display_name": "Python 3",
      "name": "python3"
    },
    "language_info": {
      "name": "python"
    }
  },
  "nbformat": 4,
  "nbformat_minor": 0
}
